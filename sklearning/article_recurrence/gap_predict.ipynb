{
 "cells": [
  {
   "cell_type": "code",
   "execution_count": 1,
   "outputs": [
    {
     "data": {
      "text/plain": "    composition  Eg (eV)\n0  Hg0.7Cd0.3Te    0.350\n1          CuBr    3.077\n2           LuP    1.300\n3      Cu3SbSe4    0.400\n4           ZnO    3.436",
      "text/html": "<div>\n<style scoped>\n    .dataframe tbody tr th:only-of-type {\n        vertical-align: middle;\n    }\n\n    .dataframe tbody tr th {\n        vertical-align: top;\n    }\n\n    .dataframe thead th {\n        text-align: right;\n    }\n</style>\n<table border=\"1\" class=\"dataframe\">\n  <thead>\n    <tr style=\"text-align: right;\">\n      <th></th>\n      <th>composition</th>\n      <th>Eg (eV)</th>\n    </tr>\n  </thead>\n  <tbody>\n    <tr>\n      <th>0</th>\n      <td>Hg0.7Cd0.3Te</td>\n      <td>0.350</td>\n    </tr>\n    <tr>\n      <th>1</th>\n      <td>CuBr</td>\n      <td>3.077</td>\n    </tr>\n    <tr>\n      <th>2</th>\n      <td>LuP</td>\n      <td>1.300</td>\n    </tr>\n    <tr>\n      <th>3</th>\n      <td>Cu3SbSe4</td>\n      <td>0.400</td>\n    </tr>\n    <tr>\n      <th>4</th>\n      <td>ZnO</td>\n      <td>3.436</td>\n    </tr>\n  </tbody>\n</table>\n</div>"
     },
     "execution_count": 1,
     "metadata": {},
     "output_type": "execute_result"
    }
   ],
   "source": [
    "import pandas as pd\n",
    "\n",
    "raw_data = pd.read_excel(r\"D:\\task\\article\\gap_predict\\jz8b00124_si_002.xlsx\")\n",
    "raw_data.head()"
   ],
   "metadata": {
    "collapsed": false,
    "pycharm": {
     "name": "#%%\n"
    }
   }
  },
  {
   "cell_type": "code",
   "execution_count": 3,
   "outputs": [
    {
     "data": {
      "text/plain": "array([10.        , 20.02766667])"
     },
     "execution_count": 3,
     "metadata": {},
     "output_type": "execute_result"
    }
   ],
   "source": [
    "import numpy as np\n",
    "Si = np.array([14,28.085])\n",
    "O = np.array([8,15.999])\n",
    "SiO2 = (Si*1.0+O*2.0)/(1.0+2.0)\n",
    "SiO2\n",
    "np.array([10.        , 20.02766667])"
   ],
   "metadata": {
    "collapsed": false,
    "pycharm": {
     "name": "#%%\n"
    }
   }
  },
  {
   "cell_type": "code",
   "execution_count": 4,
   "outputs": [],
   "source": [
    "\n",
    "#将化学式转化为元素和对应的比例\n",
    "def readComponent(comps):\n",
    "    elemlist = []\n",
    "    numlist = []\n",
    "    ccomps = comps\n",
    "    while(len(ccomps) != 0):\n",
    "        stemp = ccomps[1:]\n",
    "        if(len(stemp) == 0):\n",
    "            elemlist.append(ccomps)\n",
    "            numlist.append(1.0)\n",
    "            break\n",
    "        it = 0\n",
    "        for st in stemp:\n",
    "            it = it + 1\n",
    "            if(st.isupper()):\n",
    "                im = 0\n",
    "                for mt in stemp[:it]:\n",
    "                    im = im + 1\n",
    "                    if(mt.isdigit()):\n",
    "                        elemlist.append(ccomps[0:im])\n",
    "                        numlist.append(float(ccomps[im:it]))\n",
    "                        ccomps = ccomps[it:]\n",
    "                        break\n",
    "                    elif(im == len(stemp[:it])):\n",
    "                        elemlist.append(ccomps[0:im])\n",
    "                        numlist.append(1.0)\n",
    "                        ccomps = ccomps[it:]\n",
    "                        break\n",
    "                break\n",
    "            elif(it == len(stemp)):\n",
    "                im = 0\n",
    "                for mt in stemp:\n",
    "                    im = im + 1\n",
    "                    if(mt.isdigit()):\n",
    "                        elemlist.append(ccomps[0:im])\n",
    "                        numlist.append(float(ccomps[im:]))\n",
    "                        ccomps = ccomps[it+1:]\n",
    "                        break\n",
    "                    elif(im == len(stemp)):\n",
    "                        elemlist.append(ccomps)\n",
    "                        numlist.append(1.0)\n",
    "                        ccomps = ccomps[it+1:]\n",
    "                        break\n",
    "                break\n",
    "    return elemlist, numlist"
   ],
   "metadata": {
    "collapsed": false,
    "pycharm": {
     "name": "#%%\n"
    }
   }
  },
  {
   "cell_type": "code",
   "execution_count": 5,
   "outputs": [
    {
     "name": "stdout",
     "output_type": "stream",
     "text": [
      "组成的元素是： ['Hg', 'Cd', 'Te']\n",
      "对应的比例是： [0.7, 0.3, 1.0]\n"
     ]
    }
   ],
   "source": [
    "elemlist, numlist = readComponent(\"Hg0.7Cd0.3Te\")\n",
    "print(\"组成的元素是：\",elemlist)\n",
    "print(\"对应的比例是：\",numlist)"
   ],
   "metadata": {
    "collapsed": false,
    "pycharm": {
     "name": "#%%\n"
    }
   }
  },
  {
   "cell_type": "code",
   "execution_count": 7,
   "outputs": [],
   "source": [
    "#化学式\n",
    "symbol   =     ['X',  'H',  'He', 'Li', 'Be', 'B',  'C',  'N',  'O',  'F',\n",
    "               'Ne', 'Na', 'Mg', 'Al', 'Si', 'P',  'S',  'Cl', 'Ar', 'K',\n",
    "               'Ca', 'Sc', 'Ti', 'V',  'Cr', 'Mn', 'Fe', 'Co', 'Ni', 'Cu',\n",
    "               'Zn', 'Ga', 'Ge', 'As', 'Se', 'Br', 'Kr', 'Rb', 'Sr', 'Y',\n",
    "               'Zr', 'Nb', 'Mo', 'Tc', 'Ru', 'Rh', 'Pd', 'Ag', 'Cd', 'In',\n",
    "               'Sn', 'Sb', 'Te', 'I',  'Xe', 'Cs', 'Ba', 'La', 'Ce', 'Pr',\n",
    "               'Nd', 'Pm', 'Sm', 'Eu', 'Gd', 'Tb', 'Dy', 'Ho', 'Er', 'Tm',\n",
    "               'Yb', 'Lu', 'Hf', 'Ta', 'W',  'Re', 'Os', 'Ir', 'Pt', 'Au',\n",
    "               'Hg', 'Tl', 'Pb', 'Bi', 'Po', 'At', 'Rn', 'Fr', 'Ra', 'Ac',\n",
    "               'Th', 'Pa', 'U',  'Np', 'Pu', 'Am', 'Cm', 'Bk', 'Cf', 'Es',\n",
    "               'Fm', 'Md', 'No', 'Lr', 'Rf', 'Db', 'Sg', 'Bh', 'Hs', 'Mt',\n",
    "               'Ds', 'Rg', 'Cn', 'Uut','Fl', 'Uup','Lv', 'Uus']\n",
    "\n",
    "#转化为原子序数\n",
    "atomicNum = {}\n",
    "for an, symb in enumerate(symbol):\n",
    "    atomicNum[symb] = an\n",
    "\n",
    "#周期\n",
    "period = [0, 1, 1, 2, 2, 2, 2, 2, 2, 2,\n",
    "          2, 3, 3, 3, 3, 3, 3, 3, 3, 4,\n",
    "          4, 4, 4, 4, 4, 4, 4, 4, 4, 4,\n",
    "          4, 4, 4, 4, 4, 4, 4, 5, 5, 5,\n",
    "          5, 5, 5, 5, 5, 5, 5, 5, 5, 5,\n",
    "          5, 5, 5, 5, 5, 6, 6, 6, 6, 6,\n",
    "          6, 6, 6, 6, 6, 6, 6, 6, 6, 6,\n",
    "          6, 6, 6, 6, 6, 6, 6, 6, 6, 6,\n",
    "          6, 6, 6, 6, 6, 6, 6, 7, 7, 7,\n",
    "          7, 7, 7, 7, 7, 7, 7, 7, 7, 7,\n",
    "          7, 7, 7, 7, 7, 7, 7, 7, 7, 7,\n",
    "          7, 7, 7, 7, 7, 7, 7, 7, 7]\n",
    "\n",
    "\n",
    "\n",
    "#族\n",
    "group = [0, 1, 18, 1, 2, 13, 14, 15, 16, 17,\n",
    "              18, 1, 2, 13, 14, 15, 16, 17, 18, 1,\n",
    "               2, 3, 4, 5, 6, 7, 8, 9, 10, 11,\n",
    "              12, 13, 14, 15, 16, 17, 18, 1, 2, 3,\n",
    "               4, 5, 6, 7, 8, 9, 10, 11, 12, 13,\n",
    "              14, 15, 16, 17, 18, 1, 2, 3, 3, 3,\n",
    "               3, 3, 3, 3, 3, 3, 3, 3, 3, 3,\n",
    "               3, 3, 4, 5, 6, 7, 8, 9, 10, 11,\n",
    "              12, 13, 14, 15, 16, 17, 18, 1, 2, 3,\n",
    "               3, 3, 3, 3, 3, 3, 3, 3, 3, 3,\n",
    "               3, 3, 3, 3, 4, 5, 6, 7, 8, 9,\n",
    "              10, 11, 12, 13, 14, 15, 16, 17, 18]\n",
    "#质量\n",
    "mass = [0, 1.00794, 4.0026, 6.941, 9.01218, 10.811, 12.0107, 14.0067, 15.9994, 18.9984,\n",
    "            20.1797, 22.9898, 24.305, 26.9815, 28.0855, 30.9738, 32.065, 35.453, 39.948, 39.0983,\n",
    "            40.078, 44.9559, 47.867, 50.9415, 51.9961, 54.938, 55.845, 58.9332, 58.6934, 63.546,\n",
    "            65.409, 69.723, 72.64, 74.9216, 78.96, 79.904, 83.798, 85.4678, 87.62, 88.9059,\n",
    "            91.224, 92.9064, 95.94, 98, 101.07, 102.906, 106.42, 107.868, 112.411, 114.818,\n",
    "            118.71, 121.76, 127.6, 126.904, 131.293, 132.905, 137.327, 138.905, 140.116, 140.908,\n",
    "            144.242, 145, 150.36, 151.964, 157.25, 158.925, 162.5, 164.93, 167.259, 168.934,\n",
    "            173.04, 174.967, 178.49, 180.948, 183.84, 186.207, 190.23, 192.217, 195.084, 196.967,\n",
    "            200.59, 204.383, 207.2, 208.98, 210, 210, 220, 223, 226, 227,\n",
    "            232.038, 231.036, 238.029, 237, 244, 243, 247, 247, 251, 252,\n",
    "            257, 258, 259, 262, 265, 268, 271, 270, 277, 276,\n",
    "            281, 280, 285, 284, 289, 288, 293, 294]"
   ],
   "metadata": {
    "collapsed": false,
    "pycharm": {
     "name": "#%%\n"
    }
   }
  },
  {
   "cell_type": "code",
   "execution_count": 8,
   "outputs": [],
   "source": [
    "class Atom(object):\n",
    "    def __init__(self, name):\n",
    "        self.name = name\n",
    "        self.atomicNum = atomicNum[name]\n",
    "        self.mass = mass[self.atomicNum]\n",
    "        self.group = group[self.atomicNum]\n",
    "        self.period = period[self.atomicNum]\n",
    "        self.properties = np.array([self.atomicNum,self.group,self.period,self.mass])"
   ],
   "metadata": {
    "collapsed": false,
    "pycharm": {
     "name": "#%%\n"
    }
   }
  },
  {
   "cell_type": "code",
   "execution_count": 9,
   "outputs": [
    {
     "data": {
      "text/plain": "array([ 8.    , 16.    ,  2.    , 15.9994])"
     },
     "execution_count": 9,
     "metadata": {},
     "output_type": "execute_result"
    }
   ],
   "source": [
    "O = Atom(\"O\")\n",
    "O.properties"
   ],
   "metadata": {
    "collapsed": false,
    "pycharm": {
     "name": "#%%\n"
    }
   }
  },
  {
   "cell_type": "code",
   "execution_count": 10,
   "outputs": [
    {
     "data": {
      "text/plain": "'O'"
     },
     "execution_count": 10,
     "metadata": {},
     "output_type": "execute_result"
    }
   ],
   "source": [
    "O.name"
   ],
   "metadata": {
    "collapsed": false,
    "pycharm": {
     "name": "#%%\n"
    }
   }
  },
  {
   "cell_type": "code",
   "execution_count": 11,
   "outputs": [
    {
     "data": {
      "text/plain": "array([14.    , 14.    ,  3.    , 28.0855])"
     },
     "execution_count": 11,
     "metadata": {},
     "output_type": "execute_result"
    }
   ],
   "source": [
    "Si = Atom(\"Si\")\n",
    "Si.properties"
   ],
   "metadata": {
    "collapsed": false,
    "pycharm": {
     "name": "#%%\n"
    }
   }
  },
  {
   "cell_type": "code",
   "execution_count": 12,
   "outputs": [],
   "source": [
    "class composition(object):\n",
    "    def __init__(self, chemform):\n",
    "        self.chemform = chemform\n",
    "        self.properties = self.get_properties()\n",
    "    def get_properties(self):\n",
    "        elemlist, numlist = readComponent(self.chemform)\n",
    "        properties = 0.0\n",
    "        for i in range(len(elemlist)):\n",
    "            atom = Atom(elemlist[i])\n",
    "            properties += atom.properties*numlist[i]\n",
    "        properties /= sum(numlist)\n",
    "        return properties"
   ],
   "metadata": {
    "collapsed": false,
    "pycharm": {
     "name": "#%%\n"
    }
   }
  },
  {
   "cell_type": "code",
   "execution_count": 13,
   "outputs": [
    {
     "data": {
      "text/plain": "array([10.        , 15.33333333,  2.33333333, 20.0281    ])"
     },
     "execution_count": 13,
     "metadata": {},
     "output_type": "execute_result"
    }
   ],
   "source": [
    "SiO2 = composition(\"SiO2\")\n",
    "SiO2.properties"
   ],
   "metadata": {
    "collapsed": false,
    "pycharm": {
     "name": "#%%\n"
    }
   }
  },
  {
   "cell_type": "code",
   "execution_count": 15,
   "outputs": [],
   "source": [
    "cmps = raw_data[\"composition\"]"
   ],
   "metadata": {
    "collapsed": false,
    "pycharm": {
     "name": "#%%\n"
    }
   }
  },
  {
   "cell_type": "code",
   "execution_count": 16,
   "outputs": [],
   "source": [
    "cmps = raw_data[\"composition\"]\n",
    "gaps = raw_data[\"Eg (eV)\"]\n",
    "clean_xcmps = []\n",
    "clean_gaps = []\n",
    "for i in range(len(cmps)):\n",
    "    try:\n",
    "        clean_xcmps.append(composition(cmps[i]).properties)\n",
    "        clean_gaps.append(gaps[i])\n",
    "    except:\n",
    "        pass"
   ],
   "metadata": {
    "collapsed": false,
    "pycharm": {
     "name": "#%%\n"
    }
   }
  },
  {
   "cell_type": "code",
   "execution_count": 17,
   "outputs": [],
   "source": [
    "xdata = np.array(clean_xcmps)\n",
    "ydata = np.array(clean_gaps)"
   ],
   "metadata": {
    "collapsed": false,
    "pycharm": {
     "name": "#%%\n"
    }
   }
  },
  {
   "cell_type": "code",
   "execution_count": 18,
   "outputs": [],
   "source": [
    "from sklearn.model_selection import train_test_split\n",
    "from sklearn.neural_network import MLPRegressor\n",
    "from sklearn.preprocessing import StandardScaler"
   ],
   "metadata": {
    "collapsed": false,
    "pycharm": {
     "name": "#%%\n"
    }
   }
  },
  {
   "cell_type": "code",
   "execution_count": 19,
   "outputs": [],
   "source": [
    "x_train, x_test, y_train, y_test = train_test_split(xdata, ydata,train_size=0.8,test_size=0.2, random_state=613)"
   ],
   "metadata": {
    "collapsed": false,
    "pycharm": {
     "name": "#%%\n"
    }
   }
  },
  {
   "cell_type": "code",
   "execution_count": 20,
   "outputs": [],
   "source": [
    "#标准化，归一化\n",
    "scaler = StandardScaler()\n",
    "scaler.fit(x_train)\n",
    "\n",
    "x_train = scaler.transform(x_train)\n",
    "x_test = scaler.transform(x_test)"
   ],
   "metadata": {
    "collapsed": false,
    "pycharm": {
     "name": "#%%\n"
    }
   }
  },
  {
   "cell_type": "code",
   "execution_count": 21,
   "outputs": [
    {
     "data": {
      "text/plain": "array([[-0.85328489,  0.73716417, -0.71101661, -0.90114929],\n       [-0.94454908, -0.77170052, -0.51568761, -0.98650487],\n       [-1.44193888,  0.04076508, -1.53139841, -1.4117228 ],\n       ...,\n       [ 0.9263667 , -0.42350097,  1.04694439,  0.93815647],\n       [-0.85855014, -0.41457278, -0.57578884, -0.84298748],\n       [ 1.03392806,  0.93613534,  1.04694439,  1.03148519]])"
     },
     "execution_count": 21,
     "metadata": {},
     "output_type": "execute_result"
    }
   ],
   "source": [
    "x_test"
   ],
   "metadata": {
    "collapsed": false,
    "pycharm": {
     "name": "#%%\n"
    }
   }
  },
  {
   "cell_type": "code",
   "execution_count": 22,
   "outputs": [
    {
     "data": {
      "text/plain": "MLPRegressor(alpha=1e-05, hidden_layer_sizes=(50, 50, 50), max_iter=500,\n             random_state=613)"
     },
     "execution_count": 22,
     "metadata": {},
     "output_type": "execute_result"
    }
   ],
   "source": [
    "#模型训练\n",
    "nlf = MLPRegressor(alpha=1e-5,hidden_layer_sizes=(50,50,50), max_iter = 500, random_state=613)\n",
    "nlf.fit(x_train,y_train)"
   ],
   "metadata": {
    "collapsed": false,
    "pycharm": {
     "name": "#%%\n"
    }
   }
  },
  {
   "cell_type": "code",
   "execution_count": 23,
   "outputs": [],
   "source": [
    "#模型预测\n",
    "test_pred = nlf.predict(x_test)\n",
    "train_pred = nlf.predict(x_train)"
   ],
   "metadata": {
    "collapsed": false,
    "pycharm": {
     "name": "#%%\n"
    }
   }
  },
  {
   "cell_type": "code",
   "execution_count": 24,
   "outputs": [
    {
     "data": {
      "text/plain": "array([2.55941675, 0.24764097, 1.37218022, ..., 0.74923911, 0.78081295,\n       0.76181856])"
     },
     "execution_count": 24,
     "metadata": {},
     "output_type": "execute_result"
    }
   ],
   "source": [
    "test_pred"
   ],
   "metadata": {
    "collapsed": false,
    "pycharm": {
     "name": "#%%\n"
    }
   }
  },
  {
   "cell_type": "code",
   "execution_count": 26,
   "outputs": [
    {
     "name": "stdout",
     "output_type": "stream",
     "text": [
      "训练集统计误差：\n",
      "The MAE is:  0.7988459127850038\n",
      "The RMSE is:  1.1715242298916873\n",
      "The correlation parameter is:  (0.6515942344371858+0j)\n",
      "测试集统计误差：\n",
      "The MAE is:  0.8190109590143659\n",
      "The RMSE is:  1.2337574799801938\n",
      "The correlation parameter is:  (0.6233669113701455+0j)\n"
     ]
    }
   ],
   "source": [
    "#几个简单的统计函数\n",
    "import math,cmath\n",
    "def computecorrelation(x,y):\n",
    "    x_bar=np.mean(x)\n",
    "    y_bar=np.mean(y)\n",
    "    SSR=0\n",
    "    Varx=0\n",
    "    Vary=0\n",
    "    for i in range(0,len(x)):\n",
    "        SSR+=(x[i]-x_bar)*(y[i]-y_bar)\n",
    "        Varx+=(x[i]-x_bar)**2\n",
    "        Vary+=(y[i]-y_bar)**2\n",
    "    SST=cmath.sqrt(Varx*Vary)\n",
    "    return SSR/SST\n",
    "def rmse(x,y):\n",
    "    z = []\n",
    "    for i in range(len(x)):\n",
    "        z.append((x[i] - y[i])**2)\n",
    "    z_bar = np.mean(z)\n",
    "    return np.sqrt(z_bar)\n",
    "def mae(x,y):\n",
    "    z = []\n",
    "    for i in range(len(x)):\n",
    "        z.append(abs(x[i] - y[i]))\n",
    "    return np.mean(z)\n",
    "def get_stastics(y1,y2):\n",
    "    mae1 = mae(y1,y2)\n",
    "    rmse1 = rmse(y1,y2)\n",
    "    cor = computecorrelation(y1,y2)\n",
    "    print('The MAE is: ',mae1)\n",
    "    print('The RMSE is: ',rmse1)\n",
    "    print('The correlation parameter is: ',cor)\n",
    "    return\n",
    "#获得统计结果\n",
    "print(\"训练集统计误差：\")\n",
    "get_stastics(y_train,train_pred)\n",
    "print(\"测试集统计误差：\")\n",
    "get_stastics(y_test,test_pred)"
   ],
   "metadata": {
    "collapsed": false,
    "pycharm": {
     "name": "#%%\n"
    }
   }
  },
  {
   "cell_type": "code",
   "execution_count": 27,
   "outputs": [
    {
     "data": {
      "text/plain": "<Figure size 432x288 with 1 Axes>",
      "image/png": "[encoded data removed]"
     },
     "metadata": {
      "needs_background": "light"
     },
     "output_type": "display_data"
    }
   ],
   "source": [
    "import matplotlib.pyplot as plt\n",
    "# Plot the results\n",
    "plt.figure()\n",
    "s = 2\n",
    "a = 0.4\n",
    "plt.plot(y_test,y_test,label=\"Test data\")\n",
    "plt.scatter(y_test, test_pred, edgecolor='k',\n",
    "            c=\"cornflowerblue\", s=s, alpha=a,\n",
    "            label=\"NNR score=%.2f\" % nlf.score(x_test, y_test))\n",
    "\n",
    "plt.xlim([0, 12])\n",
    "plt.ylim([0, 12])\n",
    "plt.xlabel(\"Test data\")\n",
    "plt.ylabel(\"Predicted data\")\n",
    "plt.title(\"Neural Network Regressor Results\")\n",
    "plt.legend()\n",
    "plt.show()"
   ],
   "metadata": {
    "collapsed": false,
    "pycharm": {
     "name": "#%%\n"
    }
   }
  },
  {
   "cell_type": "code",
   "execution_count": null,
   "outputs": [],
   "source": [],
   "metadata": {
    "collapsed": false,
    "pycharm": {
     "name": "#%%\n"
    }
   }
  }
 ],
 "metadata": {
  "kernelspec": {
   "name": "pycharm-5a6c15b5",
   "language": "python",
   "display_name": "PyCharm (machine_learning)"
  },
  "language_info": {
   "codemirror_mode": {
    "name": "ipython",
    "version": 2
   },
   "file_extension": ".py",
   "mimetype": "text/x-python",
   "name": "python",
   "nbconvert_exporter": "python",
   "pygments_lexer": "ipython2",
   "version": "2.7.6"
  }
 },
 "nbformat": 4,
 "nbformat_minor": 0
}