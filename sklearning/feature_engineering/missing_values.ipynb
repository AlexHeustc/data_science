{
 "cells": [
  {
   "cell_type": "code",
   "execution_count": 1,
   "metadata": {
    "collapsed": true
   },
   "outputs": [
    {
     "data": {
      "text/plain": "    Age     Sex Embarked Survived\n0  22.0    male        S       No\n1  38.0  female        C      Yes\n2  26.0  female        S      Yes\n3  35.0  female        S      Yes\n4  35.0    male        S       No",
      "text/html": "<div>\n<style scoped>\n    .dataframe tbody tr th:only-of-type {\n        vertical-align: middle;\n    }\n\n    .dataframe tbody tr th {\n        vertical-align: top;\n    }\n\n    .dataframe thead th {\n        text-align: right;\n    }\n</style>\n<table border=\"1\" class=\"dataframe\">\n  <thead>\n    <tr style=\"text-align: right;\">\n      <th></th>\n      <th>Age</th>\n      <th>Sex</th>\n      <th>Embarked</th>\n      <th>Survived</th>\n    </tr>\n  </thead>\n  <tbody>\n    <tr>\n      <th>0</th>\n      <td>22.0</td>\n      <td>male</td>\n      <td>S</td>\n      <td>No</td>\n    </tr>\n    <tr>\n      <th>1</th>\n      <td>38.0</td>\n      <td>female</td>\n      <td>C</td>\n      <td>Yes</td>\n    </tr>\n    <tr>\n      <th>2</th>\n      <td>26.0</td>\n      <td>female</td>\n      <td>S</td>\n      <td>Yes</td>\n    </tr>\n    <tr>\n      <th>3</th>\n      <td>35.0</td>\n      <td>female</td>\n      <td>S</td>\n      <td>Yes</td>\n    </tr>\n    <tr>\n      <th>4</th>\n      <td>35.0</td>\n      <td>male</td>\n      <td>S</td>\n      <td>No</td>\n    </tr>\n  </tbody>\n</table>\n</div>"
     },
     "execution_count": 1,
     "metadata": {},
     "output_type": "execute_result"
    }
   ],
   "source": [
    "import pandas as pd\n",
    "\n",
    "data = pd.read_csv('D:/My_files/books/计算机/菜菜的机器学习/03数据预处理和特征工程/Narrativedata.csv'\n",
    "                   ,index_col=0)\n",
    "\n",
    "data.head()"
   ]
  },
  {
   "cell_type": "code",
   "execution_count": 2,
   "outputs": [
    {
     "name": "stdout",
     "output_type": "stream",
     "text": [
      "<class 'pandas.core.frame.DataFrame'>\n",
      "Int64Index: 891 entries, 0 to 890\n",
      "Data columns (total 4 columns):\n",
      " #   Column    Non-Null Count  Dtype  \n",
      "---  ------    --------------  -----  \n",
      " 0   Age       714 non-null    float64\n",
      " 1   Sex       891 non-null    object \n",
      " 2   Embarked  889 non-null    object \n",
      " 3   Survived  891 non-null    object \n",
      "dtypes: float64(1), object(3)\n",
      "memory usage: 34.8+ KB\n"
     ]
    }
   ],
   "source": [
    "data.info()"
   ],
   "metadata": {
    "collapsed": false,
    "pycharm": {
     "name": "#%%\n"
    }
   }
  },
  {
   "cell_type": "code",
   "execution_count": 3,
   "outputs": [
    {
     "data": {
      "text/plain": "array([[22.],\n       [38.],\n       [26.],\n       [35.],\n       [35.],\n       [nan],\n       [54.],\n       [ 2.],\n       [27.],\n       [14.],\n       [ 4.],\n       [58.],\n       [20.],\n       [39.],\n       [14.],\n       [55.],\n       [ 2.],\n       [nan],\n       [31.],\n       [nan]])"
     },
     "execution_count": 3,
     "metadata": {},
     "output_type": "execute_result"
    }
   ],
   "source": [
    "from sklearn.impute import SimpleImputer\n",
    "\n",
    "Age = data.loc[:,\"Age\"].values.reshape(-1,1)\n",
    "Age[:20]"
   ],
   "metadata": {
    "collapsed": false,
    "pycharm": {
     "name": "#%%\n"
    }
   }
  },
  {
   "cell_type": "code",
   "execution_count": 4,
   "outputs": [],
   "source": [
    "from sklearn.impute import SimpleImputer"
   ],
   "metadata": {
    "collapsed": false,
    "pycharm": {
     "name": "#%%\n"
    }
   }
  },
  {
   "cell_type": "code",
   "execution_count": 5,
   "outputs": [],
   "source": [
    "imp_mean = SimpleImputer()\n",
    "imp_median = SimpleImputer(strategy=\"median\")\n",
    "imp_0 = SimpleImputer(strategy=\"constant\",fill_value=0)\n",
    "\n",
    "imp_mean = imp_median.fit_transform(Age)\n",
    "imp_median = imp_median.fit_transform(Age)\n",
    "imp_0 = imp_0.fit_transform(Age)"
   ],
   "metadata": {
    "collapsed": false,
    "pycharm": {
     "name": "#%%\n"
    }
   }
  },
  {
   "cell_type": "code",
   "execution_count": 6,
   "outputs": [
    {
     "data": {
      "text/plain": "array([[22.],\n       [38.],\n       [26.],\n       [35.],\n       [35.],\n       [28.],\n       [54.],\n       [ 2.],\n       [27.],\n       [14.],\n       [ 4.],\n       [58.],\n       [20.],\n       [39.],\n       [14.],\n       [55.],\n       [ 2.],\n       [28.],\n       [31.],\n       [28.]])"
     },
     "execution_count": 6,
     "metadata": {},
     "output_type": "execute_result"
    }
   ],
   "source": [
    "imp_0[:20]\n",
    "imp_median[:20]\n",
    "imp_mean[:20]"
   ],
   "metadata": {
    "collapsed": false,
    "pycharm": {
     "name": "#%%\n"
    }
   }
  },
  {
   "cell_type": "code",
   "execution_count": 7,
   "outputs": [
    {
     "name": "stdout",
     "output_type": "stream",
     "text": [
      "<class 'pandas.core.frame.DataFrame'>\n",
      "Int64Index: 891 entries, 0 to 890\n",
      "Data columns (total 4 columns):\n",
      " #   Column    Non-Null Count  Dtype  \n",
      "---  ------    --------------  -----  \n",
      " 0   Age       891 non-null    float64\n",
      " 1   Sex       891 non-null    object \n",
      " 2   Embarked  889 non-null    object \n",
      " 3   Survived  891 non-null    object \n",
      "dtypes: float64(1), object(3)\n",
      "memory usage: 34.8+ KB\n"
     ]
    }
   ],
   "source": [
    "data.loc[:,\"Age\"] = imp_median\n",
    "\n",
    "data.info()"
   ],
   "metadata": {
    "collapsed": false,
    "pycharm": {
     "name": "#%%\n"
    }
   }
  },
  {
   "cell_type": "code",
   "execution_count": 8,
   "outputs": [
    {
     "name": "stdout",
     "output_type": "stream",
     "text": [
      "<class 'pandas.core.frame.DataFrame'>\n",
      "Int64Index: 891 entries, 0 to 890\n",
      "Data columns (total 4 columns):\n",
      " #   Column    Non-Null Count  Dtype  \n",
      "---  ------    --------------  -----  \n",
      " 0   Age       891 non-null    float64\n",
      " 1   Sex       891 non-null    object \n",
      " 2   Embarked  891 non-null    object \n",
      " 3   Survived  891 non-null    object \n",
      "dtypes: float64(1), object(3)\n",
      "memory usage: 34.8+ KB\n"
     ]
    }
   ],
   "source": [
    "Embarked = data.loc[:,\"Embarked\"].values.reshape(-1,1)\n",
    "\n",
    "imp_mode = SimpleImputer(strategy=\"most_frequent\")\n",
    "data.loc[:,\"Embarked\"] = imp_mode.fit_transform(Embarked)\n",
    "\n",
    "data.info()"
   ],
   "metadata": {
    "collapsed": false,
    "pycharm": {
     "name": "#%%\n"
    }
   }
  },
  {
   "cell_type": "code",
   "execution_count": 9,
   "outputs": [
    {
     "data": {
      "text/plain": "0"
     },
     "execution_count": 9,
     "metadata": {},
     "output_type": "execute_result"
    }
   ],
   "source": [
    "import numpy as np\n",
    "import pandas as pd\n",
    "data = pd.read_csv(r'D:\\My_files\\books\\计算机\\菜菜的机器学习\\03数据预处理和特征工程\\Narrativedata.csv'\n",
    "                   ,index_col=0)\n",
    "data.loc[:,\"Age\"] = data.loc[:,\"Age\"].fillna(data.loc[:,\"Age\"].median())\n",
    "data.dropna(axis=0,inplace=True)\n",
    "np.array(data.isnull()).sum()"
   ],
   "metadata": {
    "collapsed": false,
    "pycharm": {
     "name": "#%%\n"
    }
   }
  },
  {
   "cell_type": "code",
   "execution_count": 10,
   "outputs": [
    {
     "data": {
      "text/plain": "array([0, 2, 2, 2, 0, 0, 0, 0, 2, 2, 1, 2, 0, 0, 0, 1, 0, 2, 0, 2, 1, 2,\n       2, 2, 0, 1, 0, 0, 2, 0, 0, 2, 2, 0, 0, 0, 2, 0, 0, 2, 0, 0, 0, 1,\n       2, 0, 0, 2, 0, 0, 0, 0, 2, 2, 0, 2, 2, 0, 2, 0, 0, 0, 0, 0, 2, 2,\n       0, 2, 0, 0, 0, 0, 0, 2, 1, 0, 1, 2, 2, 0, 2, 2, 0, 2, 2, 0, 0, 2,\n       0, 0, 0, 0, 0, 0, 0, 1, 2, 2, 0, 0, 0, 0, 0, 0, 0, 2, 2, 0, 2, 0,\n       0, 0, 0, 0, 0, 0, 0, 0, 0, 0, 0, 0, 2, 0, 2, 0, 2, 2, 0, 1, 0, 0,\n       2, 0, 0, 2, 0, 0, 0, 1, 1, 2, 0, 0, 0, 2, 0, 0, 1, 0, 1, 1, 0, 0,\n       0, 2, 0, 0, 0, 0, 2, 0, 0, 0, 2, 2, 0, 0, 0, 1, 0, 2, 0, 0, 0, 1,\n       0, 0, 0, 0, 0, 0, 1, 2, 0, 2, 2, 0, 0, 2, 0, 2, 1, 2, 2, 0, 0, 1,\n       0, 0, 0, 0, 0, 2, 0, 0, 2, 2, 2, 1, 2, 1, 0, 0, 2, 2, 0, 2, 0, 2,\n       0, 0, 0, 2, 0, 2, 0, 0, 0, 2, 1, 0, 2, 0, 0, 0, 2, 0, 0, 0, 2, 0,\n       0, 0, 0, 0, 2, 2, 0, 0, 0, 0, 1, 0, 2, 2, 2, 2, 2, 0, 2, 0, 1, 0,\n       0, 1, 2, 2, 1, 0, 2, 2, 0, 2, 2, 0, 0, 1, 1, 0, 0, 0, 2, 0, 0, 2,\n       0, 2, 2, 2, 2, 0, 0, 0, 0, 0, 0, 2, 2, 2, 2, 1, 2, 0, 2, 2, 2, 0,\n       2, 2, 2, 0, 0, 0, 2, 2, 1, 2, 2, 0, 1, 2, 2, 0, 2, 0, 1, 2, 2, 2,\n       0, 1, 0, 2, 0, 0, 2, 1, 0, 2, 2, 0, 0, 0, 2, 2, 2, 2, 0, 0, 0, 0,\n       0, 0, 0, 2, 0, 2, 2, 0, 0, 0, 0, 0, 0, 2, 2, 2, 1, 2, 0, 0, 0, 0,\n       2, 2, 0, 0, 0, 2, 2, 0, 2, 0, 0, 0, 2, 0, 2, 2, 2, 0, 2, 2, 0, 0,\n       0, 0, 2, 2, 1, 0, 0, 0, 1, 0, 2, 0, 0, 0, 0, 2, 0, 2, 0, 1, 2, 0,\n       0, 0, 0, 0, 0, 0, 0, 2, 2, 0, 2, 2, 2, 2, 0, 0, 2, 0, 2, 0, 0, 2,\n       0, 0, 2, 2, 2, 2, 2, 2, 2, 0, 0, 0, 2, 1, 2, 0, 2, 2, 0, 2, 1, 0,\n       0, 0, 0, 0, 0, 0, 1, 1, 0, 2, 2, 0, 0, 1, 0, 0, 2, 0, 0, 0, 2, 2,\n       1, 2, 0, 0, 1, 0, 0, 1, 0, 0, 0, 2, 1, 0, 0, 0, 0, 0, 0, 2, 1, 2,\n       2, 1, 2, 2, 0, 2, 2, 1, 0, 2, 0, 2, 0, 2, 0, 0, 2, 0, 0, 2, 0, 0,\n       0, 2, 0, 1, 2, 0, 2, 0, 2, 0, 2, 2, 0, 1, 2, 0, 0, 2, 2, 1, 2, 2,\n       0, 0, 2, 2, 0, 2, 0, 2, 2, 0, 0, 0, 0, 1, 0, 1, 0, 1, 1, 2, 2, 1,\n       2, 0, 0, 2, 2, 0, 2, 2, 2, 0, 0, 0, 2, 0, 2, 1, 0, 0, 2, 0, 0, 0,\n       0, 2, 0, 0, 2, 2, 0, 0, 0, 2, 0, 1, 2, 2, 1, 0, 0, 2, 0, 0, 1, 0,\n       0, 2, 0, 0, 2, 2, 0, 0, 0, 1, 2, 1, 0, 1, 0, 2, 0, 0, 2, 0, 0, 0,\n       0, 0, 2, 0, 2, 2, 2, 1, 2, 0, 2, 0, 2, 0, 2, 0, 0, 0, 0, 0, 0, 1,\n       0, 0, 0, 2, 0, 0, 0, 0, 2, 2, 0, 0, 2, 0, 0, 0, 2, 0, 2, 0, 2, 0,\n       0, 0, 0, 0, 0, 0, 2, 2, 2, 2, 1, 1, 1, 1, 2, 0, 0, 2, 2, 0, 0, 0,\n       0, 1, 2, 2, 2, 2, 0, 1, 0, 1, 1, 2, 1, 0, 0, 2, 0, 0, 0, 2, 0, 2,\n       2, 1, 1, 2, 0, 1, 0, 0, 0, 0, 2, 0, 0, 2, 0, 2, 0, 2, 0, 0, 2, 0,\n       0, 2, 2, 1, 0, 2, 2, 0, 0, 0, 2, 0, 0, 2, 2, 0, 2, 0, 0, 0, 0, 0,\n       1, 0, 0, 1, 1, 0, 2, 0, 2, 2, 2, 0, 0, 0, 0, 2, 0, 2, 0, 0, 0, 0,\n       0, 0, 0, 2, 2, 0, 0, 0, 2, 2, 2, 2, 0, 0, 0, 0, 2, 0, 1, 0, 1, 0,\n       0, 0, 0, 0, 0, 2, 2, 0, 2, 0, 0, 0, 2, 2, 2, 2, 0, 0, 0, 2, 0, 0,\n       2, 2, 0, 0, 2, 0, 0, 1, 0, 0, 0, 1, 1, 0, 1, 2, 0, 2, 2, 2, 2, 0,\n       0, 0, 2, 0, 1, 1, 1, 0, 0, 2, 0, 1, 0, 0, 2, 2, 0, 0, 0, 2, 2, 0,\n       0, 1, 0, 0, 0, 2, 0, 1, 0])"
     },
     "execution_count": 10,
     "metadata": {},
     "output_type": "execute_result"
    }
   ],
   "source": [
    "from sklearn.preprocessing import LabelEncoder\n",
    "\n",
    "y= data.iloc[:,-1]\n",
    "\n",
    "le = LabelEncoder()\n",
    "label = le.fit_transform(y)\n",
    "\n",
    "le.classes_\n",
    "label"
   ],
   "metadata": {
    "collapsed": false,
    "pycharm": {
     "name": "#%%\n"
    }
   }
  },
  {
   "cell_type": "code",
   "execution_count": 11,
   "outputs": [
    {
     "data": {
      "text/plain": "      Age     Sex Embarked  Survived\n0    22.0    male        S         0\n1    38.0  female        C         2\n2    26.0  female        S         2\n3    35.0  female        S         2\n4    35.0    male        S         0\n..    ...     ...      ...       ...\n886  27.0    male        S         0\n887  19.0  female        S         2\n888  28.0  female        S         0\n889  26.0    male        C         1\n890  32.0    male        Q         0\n\n[889 rows x 4 columns]",
      "text/html": "<div>\n<style scoped>\n    .dataframe tbody tr th:only-of-type {\n        vertical-align: middle;\n    }\n\n    .dataframe tbody tr th {\n        vertical-align: top;\n    }\n\n    .dataframe thead th {\n        text-align: right;\n    }\n</style>\n<table border=\"1\" class=\"dataframe\">\n  <thead>\n    <tr style=\"text-align: right;\">\n      <th></th>\n      <th>Age</th>\n      <th>Sex</th>\n      <th>Embarked</th>\n      <th>Survived</th>\n    </tr>\n  </thead>\n  <tbody>\n    <tr>\n      <th>0</th>\n      <td>22.0</td>\n      <td>male</td>\n      <td>S</td>\n      <td>0</td>\n    </tr>\n    <tr>\n      <th>1</th>\n      <td>38.0</td>\n      <td>female</td>\n      <td>C</td>\n      <td>2</td>\n    </tr>\n    <tr>\n      <th>2</th>\n      <td>26.0</td>\n      <td>female</td>\n      <td>S</td>\n      <td>2</td>\n    </tr>\n    <tr>\n      <th>3</th>\n      <td>35.0</td>\n      <td>female</td>\n      <td>S</td>\n      <td>2</td>\n    </tr>\n    <tr>\n      <th>4</th>\n      <td>35.0</td>\n      <td>male</td>\n      <td>S</td>\n      <td>0</td>\n    </tr>\n    <tr>\n      <th>...</th>\n      <td>...</td>\n      <td>...</td>\n      <td>...</td>\n      <td>...</td>\n    </tr>\n    <tr>\n      <th>886</th>\n      <td>27.0</td>\n      <td>male</td>\n      <td>S</td>\n      <td>0</td>\n    </tr>\n    <tr>\n      <th>887</th>\n      <td>19.0</td>\n      <td>female</td>\n      <td>S</td>\n      <td>2</td>\n    </tr>\n    <tr>\n      <th>888</th>\n      <td>28.0</td>\n      <td>female</td>\n      <td>S</td>\n      <td>0</td>\n    </tr>\n    <tr>\n      <th>889</th>\n      <td>26.0</td>\n      <td>male</td>\n      <td>C</td>\n      <td>1</td>\n    </tr>\n    <tr>\n      <th>890</th>\n      <td>32.0</td>\n      <td>male</td>\n      <td>Q</td>\n      <td>0</td>\n    </tr>\n  </tbody>\n</table>\n<p>889 rows × 4 columns</p>\n</div>"
     },
     "execution_count": 11,
     "metadata": {},
     "output_type": "execute_result"
    }
   ],
   "source": [
    "data.head()\n",
    "data.iloc[:,-1] = LabelEncoder().fit_transform(data.iloc[:,-1])\n",
    "data"
   ],
   "metadata": {
    "collapsed": false,
    "pycharm": {
     "name": "#%%\n"
    }
   }
  },
  {
   "cell_type": "code",
   "execution_count": 12,
   "outputs": [
    {
     "data": {
      "text/plain": "[array(['female', 'male'], dtype=object), array(['C', 'Q', 'S'], dtype=object)]"
     },
     "execution_count": 12,
     "metadata": {},
     "output_type": "execute_result"
    }
   ],
   "source": [
    "from sklearn.preprocessing import OrdinalEncoder\n",
    "\n",
    "data_ = data.copy()\n",
    "\n",
    "data_.head()\n",
    "\n",
    "OrdinalEncoder().fit(data_.iloc[:,1:-1]).categories_"
   ],
   "metadata": {
    "collapsed": false,
    "pycharm": {
     "name": "#%%\n"
    }
   }
  },
  {
   "cell_type": "code",
   "execution_count": 13,
   "outputs": [
    {
     "data": {
      "text/plain": "array([[0., 1., 0., 0., 1.],\n       [1., 0., 1., 0., 0.],\n       [1., 0., 0., 0., 1.],\n       ...,\n       [1., 0., 0., 0., 1.],\n       [0., 1., 1., 0., 0.],\n       [0., 1., 0., 1., 0.]])"
     },
     "execution_count": 13,
     "metadata": {},
     "output_type": "execute_result"
    }
   ],
   "source": [
    "from sklearn.preprocessing import OneHotEncoder\n",
    "\n",
    "data.head()\n",
    "X = data.iloc[:,1:-1]\n",
    "#\n",
    "result = OneHotEncoder(categories='auto').fit_transform(X).toarray()\n",
    "result\n",
    "# result = enc.transform(X).toarray()\n",
    "# result"
   ],
   "metadata": {
    "collapsed": false,
    "pycharm": {
     "name": "#%%\n"
    }
   }
  },
  {
   "cell_type": "code",
   "execution_count": 14,
   "outputs": [
    {
     "data": {
      "text/plain": "array(['x0_female', 'x0_male', 'x1_C', 'x1_Q', 'x1_S'], dtype=object)"
     },
     "execution_count": 14,
     "metadata": {},
     "output_type": "execute_result"
    }
   ],
   "source": [
    "# pd.DataFrame(OneHotEncoder(categories='auto').inverse_transform(result))\n",
    "\n",
    "enc = OneHotEncoder(categories='auto').fit(X)\n",
    "enc.get_feature_names()\n",
    "# result\n",
    "# result.shape()"
   ],
   "metadata": {
    "collapsed": false,
    "pycharm": {
     "name": "#%%\n"
    }
   }
  },
  {
   "cell_type": "code",
   "execution_count": 15,
   "outputs": [
    {
     "data": {
      "text/plain": "    Age     Sex Embarked  Survived    0    1    2    3    4\n0  22.0    male        S       0.0  0.0  1.0  0.0  0.0  1.0\n1  38.0  female        C       2.0  1.0  0.0  1.0  0.0  0.0\n2  26.0  female        S       2.0  1.0  0.0  0.0  0.0  1.0\n3  35.0  female        S       2.0  1.0  0.0  0.0  0.0  1.0\n4  35.0    male        S       0.0  0.0  1.0  0.0  0.0  1.0",
      "text/html": "<div>\n<style scoped>\n    .dataframe tbody tr th:only-of-type {\n        vertical-align: middle;\n    }\n\n    .dataframe tbody tr th {\n        vertical-align: top;\n    }\n\n    .dataframe thead th {\n        text-align: right;\n    }\n</style>\n<table border=\"1\" class=\"dataframe\">\n  <thead>\n    <tr style=\"text-align: right;\">\n      <th></th>\n      <th>Age</th>\n      <th>Sex</th>\n      <th>Embarked</th>\n      <th>Survived</th>\n      <th>0</th>\n      <th>1</th>\n      <th>2</th>\n      <th>3</th>\n      <th>4</th>\n    </tr>\n  </thead>\n  <tbody>\n    <tr>\n      <th>0</th>\n      <td>22.0</td>\n      <td>male</td>\n      <td>S</td>\n      <td>0.0</td>\n      <td>0.0</td>\n      <td>1.0</td>\n      <td>0.0</td>\n      <td>0.0</td>\n      <td>1.0</td>\n    </tr>\n    <tr>\n      <th>1</th>\n      <td>38.0</td>\n      <td>female</td>\n      <td>C</td>\n      <td>2.0</td>\n      <td>1.0</td>\n      <td>0.0</td>\n      <td>1.0</td>\n      <td>0.0</td>\n      <td>0.0</td>\n    </tr>\n    <tr>\n      <th>2</th>\n      <td>26.0</td>\n      <td>female</td>\n      <td>S</td>\n      <td>2.0</td>\n      <td>1.0</td>\n      <td>0.0</td>\n      <td>0.0</td>\n      <td>0.0</td>\n      <td>1.0</td>\n    </tr>\n    <tr>\n      <th>3</th>\n      <td>35.0</td>\n      <td>female</td>\n      <td>S</td>\n      <td>2.0</td>\n      <td>1.0</td>\n      <td>0.0</td>\n      <td>0.0</td>\n      <td>0.0</td>\n      <td>1.0</td>\n    </tr>\n    <tr>\n      <th>4</th>\n      <td>35.0</td>\n      <td>male</td>\n      <td>S</td>\n      <td>0.0</td>\n      <td>0.0</td>\n      <td>1.0</td>\n      <td>0.0</td>\n      <td>0.0</td>\n      <td>1.0</td>\n    </tr>\n  </tbody>\n</table>\n</div>"
     },
     "execution_count": 15,
     "metadata": {},
     "output_type": "execute_result"
    }
   ],
   "source": [
    "newdata = pd.concat([data,pd.DataFrame(result)],axis=1)\n",
    "newdata.head()"
   ],
   "metadata": {
    "collapsed": false,
    "pycharm": {
     "name": "#%%\n"
    }
   }
  },
  {
   "cell_type": "code",
   "execution_count": 16,
   "outputs": [
    {
     "data": {
      "text/plain": "    Age  Survived    0    1    2    3    4\n0  22.0       0.0  0.0  1.0  0.0  0.0  1.0\n1  38.0       2.0  1.0  0.0  1.0  0.0  0.0\n2  26.0       2.0  1.0  0.0  0.0  0.0  1.0\n3  35.0       2.0  1.0  0.0  0.0  0.0  1.0\n4  35.0       0.0  0.0  1.0  0.0  0.0  1.0",
      "text/html": "<div>\n<style scoped>\n    .dataframe tbody tr th:only-of-type {\n        vertical-align: middle;\n    }\n\n    .dataframe tbody tr th {\n        vertical-align: top;\n    }\n\n    .dataframe thead th {\n        text-align: right;\n    }\n</style>\n<table border=\"1\" class=\"dataframe\">\n  <thead>\n    <tr style=\"text-align: right;\">\n      <th></th>\n      <th>Age</th>\n      <th>Survived</th>\n      <th>0</th>\n      <th>1</th>\n      <th>2</th>\n      <th>3</th>\n      <th>4</th>\n    </tr>\n  </thead>\n  <tbody>\n    <tr>\n      <th>0</th>\n      <td>22.0</td>\n      <td>0.0</td>\n      <td>0.0</td>\n      <td>1.0</td>\n      <td>0.0</td>\n      <td>0.0</td>\n      <td>1.0</td>\n    </tr>\n    <tr>\n      <th>1</th>\n      <td>38.0</td>\n      <td>2.0</td>\n      <td>1.0</td>\n      <td>0.0</td>\n      <td>1.0</td>\n      <td>0.0</td>\n      <td>0.0</td>\n    </tr>\n    <tr>\n      <th>2</th>\n      <td>26.0</td>\n      <td>2.0</td>\n      <td>1.0</td>\n      <td>0.0</td>\n      <td>0.0</td>\n      <td>0.0</td>\n      <td>1.0</td>\n    </tr>\n    <tr>\n      <th>3</th>\n      <td>35.0</td>\n      <td>2.0</td>\n      <td>1.0</td>\n      <td>0.0</td>\n      <td>0.0</td>\n      <td>0.0</td>\n      <td>1.0</td>\n    </tr>\n    <tr>\n      <th>4</th>\n      <td>35.0</td>\n      <td>0.0</td>\n      <td>0.0</td>\n      <td>1.0</td>\n      <td>0.0</td>\n      <td>0.0</td>\n      <td>1.0</td>\n    </tr>\n  </tbody>\n</table>\n</div>"
     },
     "execution_count": 16,
     "metadata": {},
     "output_type": "execute_result"
    }
   ],
   "source": [
    "newdata.drop([\"Sex\",\"Embarked\"],axis=1,inplace=True)\n",
    "newdata.head()"
   ],
   "metadata": {
    "collapsed": false,
    "pycharm": {
     "name": "#%%\n"
    }
   }
  },
  {
   "cell_type": "code",
   "execution_count": 17,
   "outputs": [
    {
     "data": {
      "text/plain": "    Age  Survived  Female  Male  Embarked_C  Embarked_Q  Embarked_S\n0  22.0       0.0     0.0   1.0         0.0         0.0         1.0\n1  38.0       2.0     1.0   0.0         1.0         0.0         0.0\n2  26.0       2.0     1.0   0.0         0.0         0.0         1.0\n3  35.0       2.0     1.0   0.0         0.0         0.0         1.0\n4  35.0       0.0     0.0   1.0         0.0         0.0         1.0",
      "text/html": "<div>\n<style scoped>\n    .dataframe tbody tr th:only-of-type {\n        vertical-align: middle;\n    }\n\n    .dataframe tbody tr th {\n        vertical-align: top;\n    }\n\n    .dataframe thead th {\n        text-align: right;\n    }\n</style>\n<table border=\"1\" class=\"dataframe\">\n  <thead>\n    <tr style=\"text-align: right;\">\n      <th></th>\n      <th>Age</th>\n      <th>Survived</th>\n      <th>Female</th>\n      <th>Male</th>\n      <th>Embarked_C</th>\n      <th>Embarked_Q</th>\n      <th>Embarked_S</th>\n    </tr>\n  </thead>\n  <tbody>\n    <tr>\n      <th>0</th>\n      <td>22.0</td>\n      <td>0.0</td>\n      <td>0.0</td>\n      <td>1.0</td>\n      <td>0.0</td>\n      <td>0.0</td>\n      <td>1.0</td>\n    </tr>\n    <tr>\n      <th>1</th>\n      <td>38.0</td>\n      <td>2.0</td>\n      <td>1.0</td>\n      <td>0.0</td>\n      <td>1.0</td>\n      <td>0.0</td>\n      <td>0.0</td>\n    </tr>\n    <tr>\n      <th>2</th>\n      <td>26.0</td>\n      <td>2.0</td>\n      <td>1.0</td>\n      <td>0.0</td>\n      <td>0.0</td>\n      <td>0.0</td>\n      <td>1.0</td>\n    </tr>\n    <tr>\n      <th>3</th>\n      <td>35.0</td>\n      <td>2.0</td>\n      <td>1.0</td>\n      <td>0.0</td>\n      <td>0.0</td>\n      <td>0.0</td>\n      <td>1.0</td>\n    </tr>\n    <tr>\n      <th>4</th>\n      <td>35.0</td>\n      <td>0.0</td>\n      <td>0.0</td>\n      <td>1.0</td>\n      <td>0.0</td>\n      <td>0.0</td>\n      <td>1.0</td>\n    </tr>\n  </tbody>\n</table>\n</div>"
     },
     "execution_count": 17,
     "metadata": {},
     "output_type": "execute_result"
    }
   ],
   "source": [
    "newdata.columns = [\"Age\",\"Survived\",\"Female\",\"Male\",\"Embarked_C\",\"Embarked_Q\",\"Embarked_S\"]\n",
    "newdata.head()\n"
   ],
   "metadata": {
    "collapsed": false,
    "pycharm": {
     "name": "#%%\n"
    }
   }
  },
  {
   "cell_type": "code",
   "execution_count": 18,
   "outputs": [
    {
     "data": {
      "text/plain": "array([[0.],\n       [1.],\n       [0.],\n       [1.],\n       [1.],\n       [0.],\n       [1.],\n       [0.],\n       [0.],\n       [0.],\n       [0.],\n       [1.],\n       [0.],\n       [1.],\n       [0.],\n       [1.],\n       [0.],\n       [0.],\n       [1.],\n       [0.],\n       [1.],\n       [1.],\n       [0.],\n       [0.],\n       [0.],\n       [1.],\n       [0.],\n       [0.],\n       [0.],\n       [0.],\n       [1.],\n       [0.],\n       [0.],\n       [1.],\n       [0.],\n       [1.],\n       [0.],\n       [0.],\n       [0.],\n       [0.],\n       [1.],\n       [0.],\n       [0.],\n       [0.],\n       [0.],\n       [0.],\n       [0.],\n       [0.],\n       [0.],\n       [0.],\n       [0.],\n       [0.],\n       [1.],\n       [0.],\n       [1.],\n       [0.],\n       [0.],\n       [0.],\n       [0.],\n       [0.],\n       [0.],\n       [1.],\n       [0.],\n       [0.],\n       [0.],\n       [0.],\n       [0.],\n       [0.],\n       [0.],\n       [1.],\n       [0.],\n       [0.],\n       [0.],\n       [1.],\n       [0.],\n       [0.],\n       [0.],\n       [0.],\n       [0.],\n       [0.],\n       [0.],\n       [0.],\n       [0.],\n       [0.],\n       [1.],\n       [0.],\n       [0.],\n       [0.],\n       [0.],\n       [0.],\n       [0.],\n       [1.],\n       [0.],\n       [1.],\n       [0.],\n       [1.],\n       [0.],\n       [1.],\n       [1.],\n       [0.],\n       [0.],\n       [0.],\n       [1.],\n       [1.],\n       [0.],\n       [0.],\n       [0.],\n       [1.],\n       [0.],\n       [1.],\n       [0.],\n       [0.],\n       [0.],\n       [0.],\n       [0.],\n       [1.],\n       [0.],\n       [0.],\n       [0.],\n       [0.],\n       [0.],\n       [1.],\n       [1.],\n       [1.],\n       [0.],\n       [0.],\n       [0.],\n       [0.],\n       [1.],\n       [1.],\n       [0.],\n       [1.],\n       [0.],\n       [0.],\n       [0.],\n       [0.],\n       [1.],\n       [0.],\n       [0.],\n       [0.],\n       [0.],\n       [0.],\n       [0.],\n       [0.],\n       [0.],\n       [0.],\n       [0.],\n       [1.],\n       [1.],\n       [1.],\n       [0.],\n       [1.],\n       [1.],\n       [0.],\n       [1.],\n       [0.],\n       [0.],\n       [0.],\n       [0.],\n       [1.],\n       [1.],\n       [0.],\n       [0.],\n       [0.],\n       [0.],\n       [0.],\n       [1.],\n       [0.],\n       [0.],\n       [1.],\n       [0.],\n       [0.],\n       [0.],\n       [1.],\n       [0.],\n       [0.],\n       [1.],\n       [0.],\n       [1.],\n       [0.],\n       [0.],\n       [0.],\n       [0.],\n       [0.],\n       [0.],\n       [0.],\n       [1.],\n       [1.],\n       [1.],\n       [1.],\n       [0.],\n       [0.],\n       [0.],\n       [1.],\n       [1.],\n       [0.],\n       [1.],\n       [0.],\n       [0.],\n       [0.],\n       [0.],\n       [1.],\n       [1.],\n       [0.],\n       [0.],\n       [1.],\n       [0.],\n       [0.],\n       [1.],\n       [0.],\n       [1.],\n       [0.],\n       [0.],\n       [0.],\n       [1.],\n       [0.],\n       [1.],\n       [1.],\n       [0.],\n       [0.],\n       [0.],\n       [1.],\n       [0.],\n       [1.],\n       [0.],\n       [0.],\n       [0.],\n       [0.],\n       [0.],\n       [1.],\n       [0.],\n       [1.],\n       [0.],\n       [0.],\n       [0.],\n       [1.],\n       [0.],\n       [0.],\n       [1.],\n       [0.],\n       [0.],\n       [0.],\n       [0.],\n       [0.],\n       [1.],\n       [0.],\n       [0.],\n       [1.],\n       [1.],\n       [0.],\n       [0.],\n       [1.],\n       [0.],\n       [1.],\n       [0.],\n       [0.],\n       [0.],\n       [1.],\n       [1.],\n       [0.],\n       [0.],\n       [1.],\n       [1.],\n       [0.],\n       [1.],\n       [0.],\n       [0.],\n       [1.],\n       [1.],\n       [0.],\n       [0.],\n       [1.],\n       [1.],\n       [0.],\n       [1.],\n       [1.],\n       [0.],\n       [0.],\n       [1.],\n       [1.],\n       [0.],\n       [0.],\n       [0.],\n       [0.],\n       [1.],\n       [0.],\n       [0.],\n       [1.],\n       [0.],\n       [0.],\n       [0.],\n       [1.],\n       [0.],\n       [0.],\n       [0.],\n       [0.],\n       [0.],\n       [0.],\n       [1.],\n       [0.],\n       [0.],\n       [0.],\n       [0.],\n       [0.],\n       [0.],\n       [0.],\n       [0.],\n       [0.],\n       [0.],\n       [0.],\n       [0.],\n       [0.],\n       [0.],\n       [1.],\n       [0.],\n       [0.],\n       [1.],\n       [1.],\n       [1.],\n       [0.],\n       [0.],\n       [0.],\n       [0.],\n       [0.],\n       [1.],\n       [1.],\n       [1.],\n       [1.],\n       [0.],\n       [0.],\n       [1.],\n       [1.],\n       [0.],\n       [0.],\n       [0.],\n       [0.],\n       [1.],\n       [1.],\n       [1.],\n       [0.],\n       [0.],\n       [0.],\n       [0.],\n       [1.],\n       [0.],\n       [1.],\n       [0.],\n       [0.],\n       [1.],\n       [0.],\n       [0.],\n       [0.],\n       [0.],\n       [0.],\n       [0.],\n       [0.],\n       [1.],\n       [0.],\n       [0.],\n       [1.],\n       [0.],\n       [1.],\n       [1.],\n       [0.],\n       [0.],\n       [1.],\n       [0.],\n       [0.],\n       [0.],\n       [0.],\n       [0.],\n       [0.],\n       [0.],\n       [0.],\n       [0.],\n       [0.],\n       [0.],\n       [0.],\n       [0.],\n       [1.],\n       [0.],\n       [1.],\n       [1.],\n       [0.],\n       [0.],\n       [0.],\n       [1.],\n       [0.],\n       [0.],\n       [1.],\n       [0.],\n       [0.],\n       [0.],\n       [0.],\n       [0.],\n       [1.],\n       [1.],\n       [0.],\n       [0.],\n       [1.],\n       [0.],\n       [0.],\n       [0.],\n       [0.],\n       [1.],\n       [1.],\n       [0.],\n       [0.],\n       [0.],\n       [0.],\n       [0.],\n       [1.],\n       [0.],\n       [1.],\n       [0.],\n       [1.],\n       [0.],\n       [0.],\n       [0.],\n       [0.],\n       [0.],\n       [0.],\n       [0.],\n       [0.],\n       [0.],\n       [0.],\n       [0.],\n       [0.],\n       [1.],\n       [0.],\n       [0.],\n       [1.],\n       [0.],\n       [1.],\n       [0.],\n       [0.],\n       [0.],\n       [1.],\n       [1.],\n       [1.],\n       [0.],\n       [0.],\n       [0.],\n       [0.],\n       [0.],\n       [0.],\n       [1.],\n       [0.],\n       [1.],\n       [1.],\n       [0.],\n       [0.],\n       [1.],\n       [0.],\n       [0.],\n       [1.],\n       [0.],\n       [1.],\n       [0.],\n       [1.],\n       [1.],\n       [1.],\n       [1.],\n       [0.],\n       [1.],\n       [0.],\n       [1.],\n       [0.],\n       [0.],\n       [0.],\n       [1.],\n       [1.],\n       [0.],\n       [0.],\n       [0.],\n       [1.],\n       [0.],\n       [0.],\n       [0.],\n       [0.],\n       [0.],\n       [1.],\n       [1.],\n       [0.],\n       [0.],\n       [1.],\n       [1.],\n       [0.],\n       [0.],\n       [0.],\n       [0.],\n       [1.],\n       [1.],\n       [0.],\n       [0.],\n       [1.],\n       [0.],\n       [0.],\n       [0.],\n       [0.],\n       [0.],\n       [0.],\n       [1.],\n       [0.],\n       [0.],\n       [1.],\n       [0.],\n       [0.],\n       [0.],\n       [0.],\n       [0.],\n       [1.],\n       [1.],\n       [0.],\n       [1.],\n       [1.],\n       [0.],\n       [1.],\n       [1.],\n       [0.],\n       [0.],\n       [0.],\n       [1.],\n       [0.],\n       [1.],\n       [1.],\n       [0.],\n       [1.],\n       [0.],\n       [0.],\n       [0.],\n       [0.],\n       [0.],\n       [0.],\n       [0.],\n       [1.],\n       [0.],\n       [0.],\n       [0.],\n       [1.],\n       [0.],\n       [0.],\n       [1.],\n       [1.],\n       [1.],\n       [0.],\n       [0.],\n       [1.],\n       [0.],\n       [0.],\n       [0.],\n       [0.],\n       [0.],\n       [0.],\n       [1.],\n       [1.],\n       [0.],\n       [1.],\n       [1.],\n       [0.],\n       [1.],\n       [0.],\n       [0.],\n       [0.],\n       [0.],\n       [0.],\n       [0.],\n       [0.],\n       [1.],\n       [1.],\n       [1.],\n       [1.],\n       [0.],\n       [0.],\n       [0.],\n       [1.],\n       [1.],\n       [0.],\n       [1.],\n       [0.],\n       [1.],\n       [1.],\n       [1.],\n       [0.],\n       [0.],\n       [1.],\n       [1.],\n       [0.],\n       [0.],\n       [1.],\n       [1.],\n       [1.],\n       [0.],\n       [1.],\n       [1.],\n       [0.],\n       [1.],\n       [0.],\n       [1.],\n       [0.],\n       [0.],\n       [0.],\n       [1.],\n       [1.],\n       [1.],\n       [0.],\n       [0.],\n       [0.],\n       [1.],\n       [1.],\n       [0.],\n       [0.],\n       [0.],\n       [1.],\n       [0.],\n       [1.],\n       [0.],\n       [0.],\n       [0.],\n       [0.],\n       [1.],\n       [0.],\n       [0.],\n       [0.],\n       [1.],\n       [1.],\n       [0.],\n       [0.],\n       [0.],\n       [1.],\n       [1.],\n       [1.],\n       [0.],\n       [0.],\n       [0.],\n       [1.],\n       [1.],\n       [1.],\n       [0.],\n       [0.],\n       [0.],\n       [0.],\n       [0.],\n       [0.],\n       [1.],\n       [0.],\n       [1.],\n       [0.],\n       [0.],\n       [0.],\n       [0.],\n       [0.],\n       [0.],\n       [0.],\n       [0.],\n       [0.],\n       [1.],\n       [0.],\n       [1.],\n       [1.],\n       [1.],\n       [1.],\n       [1.],\n       [0.],\n       [1.],\n       [0.],\n       [0.],\n       [1.],\n       [0.],\n       [1.],\n       [1.],\n       [1.],\n       [1.],\n       [0.],\n       [0.],\n       [0.],\n       [0.],\n       [1.],\n       [1.],\n       [0.],\n       [0.],\n       [0.],\n       [0.],\n       [1.],\n       [0.],\n       [0.],\n       [0.],\n       [0.],\n       [0.],\n       [1.],\n       [0.],\n       [0.],\n       [0.],\n       [1.],\n       [1.],\n       [1.],\n       [0.],\n       [1.],\n       [1.],\n       [0.],\n       [1.],\n       [0.],\n       [0.],\n       [0.],\n       [1.],\n       [1.],\n       [1.],\n       [0.],\n       [0.],\n       [0.],\n       [0.],\n       [1.],\n       [0.],\n       [1.],\n       [0.],\n       [1.],\n       [0.],\n       [0.],\n       [1.],\n       [0.],\n       [0.],\n       [1.],\n       [1.],\n       [0.],\n       [0.],\n       [0.],\n       [0.],\n       [0.],\n       [0.],\n       [0.],\n       [0.],\n       [0.],\n       [0.],\n       [0.],\n       [0.],\n       [1.],\n       [1.],\n       [0.],\n       [0.],\n       [0.],\n       [1.],\n       [0.],\n       [0.],\n       [1.],\n       [1.],\n       [0.],\n       [0.],\n       [0.],\n       [1.],\n       [0.],\n       [0.],\n       [1.],\n       [0.],\n       [1.],\n       [0.],\n       [0.],\n       [0.],\n       [1.],\n       [1.],\n       [0.],\n       [1.],\n       [0.],\n       [1.],\n       [0.],\n       [1.],\n       [0.],\n       [1.],\n       [0.],\n       [1.],\n       [0.],\n       [1.],\n       [1.],\n       [0.],\n       [1.],\n       [0.],\n       [0.],\n       [0.],\n       [0.],\n       [1.],\n       [0.],\n       [0.],\n       [0.],\n       [0.],\n       [0.],\n       [0.],\n       [0.],\n       [0.],\n       [0.],\n       [1.],\n       [0.],\n       [0.],\n       [0.],\n       [0.],\n       [0.],\n       [1.],\n       [1.],\n       [1.],\n       [0.],\n       [0.],\n       [1.],\n       [1.],\n       [0.],\n       [0.],\n       [0.],\n       [1.],\n       [1.],\n       [0.],\n       [1.],\n       [1.],\n       [0.],\n       [1.],\n       [1.],\n       [0.],\n       [1.],\n       [0.],\n       [0.],\n       [1.],\n       [1.],\n       [0.],\n       [1.],\n       [0.],\n       [1.],\n       [0.],\n       [0.],\n       [0.],\n       [0.],\n       [0.],\n       [0.],\n       [0.],\n       [0.],\n       [0.],\n       [0.],\n       [0.],\n       [1.],\n       [0.],\n       [0.],\n       [1.],\n       [0.],\n       [0.],\n       [0.],\n       [0.],\n       [1.],\n       [0.],\n       [1.],\n       [0.],\n       [1.],\n       [0.],\n       [0.],\n       [0.],\n       [1.],\n       [0.],\n       [0.],\n       [1.],\n       [0.],\n       [1.],\n       [1.],\n       [0.],\n       [0.],\n       [1.],\n       [0.],\n       [1.],\n       [0.],\n       [0.],\n       [1.],\n       [0.],\n       [1.],\n       [0.],\n       [0.],\n       [0.],\n       [1.],\n       [1.],\n       [1.],\n       [0.],\n       [0.],\n       [0.],\n       [0.],\n       [0.],\n       [1.],\n       [0.],\n       [1.],\n       [0.],\n       [0.],\n       [0.],\n       [1.],\n       [0.],\n       [0.],\n       [0.],\n       [0.],\n       [1.]])"
     },
     "execution_count": 18,
     "metadata": {},
     "output_type": "execute_result"
    }
   ],
   "source": [
    "data_2 = data.copy()\n",
    "\n",
    "from sklearn.preprocessing import Binarizer\n",
    "\n",
    "X= data_2.iloc[:,0].values.reshape(-1,1)\n",
    "\n",
    "transformer = Binarizer(threshold=30).fit_transform(X)\n",
    "transformer"
   ],
   "metadata": {
    "collapsed": false,
    "pycharm": {
     "name": "#%%\n"
    }
   }
  },
  {
   "cell_type": "code",
   "execution_count": 22,
   "outputs": [
    {
     "data": {
      "text/plain": "array([[1., 0., 0.],\n       [0., 1., 0.],\n       [1., 0., 0.],\n       ...,\n       [0., 1., 0.],\n       [1., 0., 0.],\n       [0., 1., 0.]])"
     },
     "execution_count": 22,
     "metadata": {},
     "output_type": "execute_result"
    }
   ],
   "source": [
    "from sklearn.preprocessing import KBinsDiscretizer\n",
    "\n",
    "X = data.iloc[:,0].values.reshape(-1,1)\n",
    "est = KBinsDiscretizer(n_bins=3,encode='ordinal',strategy='uniform').fit_transform(X)\n",
    "set(est.ravel())\n",
    "\n",
    "est = KBinsDiscretizer(n_bins=3,encode='onehot',strategy='uniform').fit_transform(X)\n",
    "est.toarray()"
   ],
   "metadata": {
    "collapsed": false,
    "pycharm": {
     "name": "#%%\n"
    }
   }
  },
  {
   "cell_type": "code",
   "execution_count": 18,
   "outputs": [
    {
     "data": {
      "text/plain": "0        1\n1        0\n2        1\n3        4\n4        0\n        ..\n41995    0\n41996    1\n41997    7\n41998    6\n41999    9\nName: label, Length: 42000, dtype: int64"
     },
     "execution_count": 18,
     "metadata": {},
     "output_type": "execute_result"
    }
   ],
   "source": [
    "import pandas as pd\n",
    "data = pd.read_csv(r'D:\\My_files\\books\\计算机\\菜菜的机器学习\\03数据预处理和特征工程\\digit recognizor.csv')\n",
    "\n",
    "x = data.iloc[:,1:]\n",
    "y = data.iloc[:,0]\n",
    "\n",
    "x.shape\n",
    "y"
   ],
   "metadata": {
    "collapsed": false,
    "pycharm": {
     "name": "#%%\n"
    }
   }
  },
  {
   "cell_type": "code",
   "execution_count": 3,
   "outputs": [
    {
     "data": {
      "text/plain": "(42000, 708)"
     },
     "execution_count": 3,
     "metadata": {},
     "output_type": "execute_result"
    }
   ],
   "source": [
    "from sklearn.feature_selection import VarianceThreshold\n",
    "selector = VarianceThreshold()\n",
    "x_var0 = selector.fit_transform(x)\n",
    "x_var0.shape"
   ],
   "metadata": {
    "collapsed": false,
    "pycharm": {
     "name": "#%%\n"
    }
   }
  },
  {
   "cell_type": "code",
   "execution_count": 4,
   "outputs": [
    {
     "data": {
      "text/plain": "array([0.00000000e+00, 0.00000000e+00, 0.00000000e+00, 0.00000000e+00,\n       0.00000000e+00, 0.00000000e+00, 0.00000000e+00, 0.00000000e+00,\n       0.00000000e+00, 0.00000000e+00, 0.00000000e+00, 0.00000000e+00,\n       3.22760590e-01, 2.64689018e+00, 1.11085714e+00, 1.92857143e-03,\n       0.00000000e+00, 0.00000000e+00, 0.00000000e+00, 0.00000000e+00,\n       0.00000000e+00, 0.00000000e+00, 0.00000000e+00, 0.00000000e+00,\n       0.00000000e+00, 0.00000000e+00, 0.00000000e+00, 0.00000000e+00,\n       0.00000000e+00, 0.00000000e+00, 0.00000000e+00, 0.00000000e+00,\n       6.09523810e-03, 5.41186213e-02, 1.28065733e+00, 5.33793150e+00,\n       9.74592647e+00, 1.06219147e+01, 2.49289953e+01, 3.37671294e+01,\n       3.59425660e+01, 3.49309575e+01, 3.62943342e+01, 3.27911079e+01,\n       3.04237672e+01, 2.95547817e+01, 2.00568398e+01, 1.19545659e+01,\n       8.60419724e+00, 2.55465685e+00, 1.60530842e+00, 9.29377602e-01,\n       0.00000000e+00, 0.00000000e+00, 0.00000000e+00, 0.00000000e+00,\n       0.00000000e+00, 0.00000000e+00, 9.75238095e-02, 2.00238095e-02,\n       8.38442376e-01, 6.23481035e-01, 9.48446647e+00, 2.93530906e+01,\n       5.67872968e+01, 1.00230634e+02, 1.65873698e+02, 2.52738939e+02,\n       3.76018084e+02, 5.14426094e+02, 6.50102357e+02, 7.26608631e+02,\n       7.20549617e+02, 6.49594181e+02, 5.18814455e+02, 3.94092376e+02,\n       2.35038093e+02, 1.14843923e+02, 5.61521180e+01, 1.70331842e+01,\n       6.48083740e+00, 1.08821717e+00, 0.00000000e+00, 0.00000000e+00,\n       0.00000000e+00, 0.00000000e+00, 4.76236337e-01, 2.75489198e-01,\n       1.29297595e+00, 1.26446724e+01, 4.28153306e+01, 9.43924926e+01,\n       2.15866693e+02, 4.40079141e+02, 7.26679321e+02, 1.10776068e+03,\n       1.49073923e+03, 1.93993499e+03, 2.31552090e+03, 2.59022407e+03,\n       2.49637882e+03, 2.22627799e+03, 1.80800104e+03, 1.31417708e+03,\n       7.95887557e+02, 4.41320506e+02, 1.99165391e+02, 7.95865424e+01,\n       3.10264989e+01, 2.26837146e+00, 3.48595238e-01, 0.00000000e+00,\n       0.00000000e+00, 3.43809524e-02, 1.15447633e-01, 1.25289059e+00,\n       1.15530325e+01, 6.16749834e+01, 1.71059884e+02, 4.37266473e+02,\n       9.14503323e+02, 1.61733281e+03, 2.58238559e+03, 3.73319320e+03,\n       4.97101576e+03, 6.18285701e+03, 7.12176198e+03, 7.61902605e+03,\n       7.35140128e+03, 6.59732933e+03, 5.42159265e+03, 4.14622275e+03,\n       2.74210919e+03, 1.60716526e+03, 8.30092375e+02, 3.85524893e+02,\n       1.44471061e+02, 2.98361218e+01, 5.45472846e+00, 0.00000000e+00,\n       0.00000000e+00, 0.00000000e+00, 7.16499590e-01, 5.19710545e+00,\n       6.12264995e+01, 2.53650903e+02, 6.51218510e+02, 1.32512948e+03,\n       2.39625599e+03, 3.90432573e+03, 5.65248822e+03, 7.50750831e+03,\n       9.28013155e+03, 1.07098605e+04, 1.15505424e+04, 1.18353399e+04,\n       1.16728383e+04, 1.10553420e+04, 9.77051209e+03, 8.00603359e+03,\n       5.90601149e+03, 3.83759619e+03, 2.22900745e+03, 1.15756773e+03,\n       5.07963705e+02, 1.22007799e+02, 1.78286793e+01, 7.71428571e-03,\n       0.00000000e+00, 3.80952381e-04, 2.37199928e+00, 3.95713081e+01,\n       2.07427935e+02, 6.06480056e+02, 1.37944393e+03, 2.64652318e+03,\n       4.39063213e+03, 6.55335113e+03, 8.64850053e+03, 1.03924767e+04,\n       1.16602029e+04, 1.23720092e+04, 1.25944602e+04, 1.26223718e+04,\n       1.26261428e+04, 1.25617677e+04, 1.20570623e+04, 1.07029270e+04,\n       8.66359114e+03, 6.04366459e+03, 3.77715738e+03, 2.05026195e+03,\n       9.47173606e+02, 3.04430342e+02, 5.49548377e+01, 3.50648111e+00,\n       0.00000000e+00, 1.47595606e+00, 1.73365714e+01, 1.03708159e+02,\n       4.49220215e+02, 1.11598051e+03, 2.31261700e+03, 4.05981199e+03,\n       6.27112094e+03, 8.61258120e+03, 1.04088978e+04, 1.15863594e+04,\n       1.20861191e+04, 1.22313676e+04, 1.22256615e+04, 1.21230025e+04,\n       1.21304108e+04, 1.22345097e+04, 1.22810693e+04, 1.17587829e+04,\n       1.01382911e+04, 7.63237251e+03, 4.91736987e+03, 2.72324144e+03,\n       1.22087326e+03, 4.16952121e+02, 7.84619988e+01, 2.69471891e+00,\n       6.68809524e-02, 1.14742637e+01, 7.06094700e+01, 2.58579123e+02,\n       7.58812237e+02, 1.66236697e+03, 3.16372296e+03, 5.28061009e+03,\n       7.80859675e+03, 1.00912727e+04, 1.16171690e+04, 1.22797788e+04,\n       1.23833077e+04, 1.24581779e+04, 1.23866060e+04, 1.23021558e+04,\n       1.22796752e+04, 1.23185424e+04, 1.24370140e+04, 1.21441547e+04,\n       1.08800641e+04, 8.45510124e+03, 5.53590659e+03, 2.92299426e+03,\n       1.27293575e+03, 4.39632397e+02, 7.77464211e+01, 2.35152706e+00,\n       1.41387108e+00, 1.83873300e+01, 1.01219976e+02, 3.59094119e+02,\n       9.16376867e+02, 1.90547923e+03, 3.64144404e+03, 6.06890402e+03,\n       8.86696591e+03, 1.10299773e+04, 1.21997003e+04, 1.24677668e+04,\n       1.23878202e+04, 1.20816759e+04, 1.18414911e+04, 1.18243379e+04,\n       1.19196049e+04, 1.22058487e+04, 1.24040782e+04, 1.21013351e+04,\n       1.08905421e+04, 8.53288188e+03, 5.50599673e+03, 2.77180472e+03,\n       1.06085951e+03, 3.12689774e+02, 5.19949129e+01, 5.02228364e+00,\n       3.12121001e+00, 1.92336286e+01, 1.00196288e+02, 3.33760276e+02,\n       8.42723536e+02, 1.87713749e+03, 3.80614513e+03, 6.46513903e+03,\n       9.41022768e+03, 1.14543460e+04, 1.22494028e+04, 1.22551059e+04,\n       1.15972630e+04, 1.07756156e+04, 1.05723907e+04, 1.10540147e+04,\n       1.14904415e+04, 1.20641837e+04, 1.22340857e+04, 1.19219747e+04,\n       1.04672465e+04, 8.02282693e+03, 5.11996418e+03, 2.49340573e+03,\n       8.29185839e+02, 2.02728469e+02, 3.65252982e+01, 4.73545802e+00,\n       6.54689762e-01, 1.10762921e+01, 8.21810900e+01, 2.45993138e+02,\n       6.88037918e+02, 1.77097595e+03, 3.89510214e+03, 6.82414020e+03,\n       9.88524752e+03, 1.16866740e+04, 1.22052249e+04, 1.18503310e+04,\n       1.08057141e+04, 1.00029368e+04, 1.05613005e+04, 1.13459087e+04,\n       1.16813954e+04, 1.21153444e+04, 1.22013911e+04, 1.16257849e+04,\n       9.77524122e+03, 7.24039730e+03, 4.72965127e+03, 2.39611574e+03,\n       7.37971166e+02, 1.05994299e+02, 2.09059137e+01, 7.86044778e-01,\n       6.32595238e-01, 6.32770971e+00, 4.96597411e+01, 1.73335928e+02,\n       5.64355135e+02, 1.79246896e+03, 4.19852946e+03, 7.42330328e+03,\n       1.03680620e+04, 1.19241275e+04, 1.22167302e+04, 1.17312041e+04,\n       1.08331969e+04, 1.06956425e+04, 1.18765965e+04, 1.23125550e+04,\n       1.21036991e+04, 1.23648277e+04, 1.23532159e+04, 1.12659827e+04,\n       9.01309194e+03, 6.65304923e+03, 4.53230600e+03, 2.53236771e+03,\n       8.13317532e+02, 7.57360821e+01, 1.22663918e+01, 9.49856083e-01,\n       2.43809524e-02, 2.05312854e+00, 2.37737153e+01, 1.15295050e+02,\n       5.23151198e+02, 2.00356402e+03, 4.71208413e+03, 8.02210576e+03,\n       1.07142826e+04, 1.19844734e+04, 1.21443066e+04, 1.17352672e+04,\n       1.13501890e+04, 1.18058310e+04, 1.29305253e+04, 1.24664835e+04,\n       1.21090771e+04, 1.25723716e+04, 1.24760936e+04, 1.09595385e+04,\n       8.66572810e+03, 6.56048630e+03, 4.59945505e+03, 2.74090145e+03,\n       9.79975029e+02, 1.02467830e+02, 1.16955902e+01, 2.92035599e+00,\n       0.00000000e+00, 8.53042930e-01, 8.80331299e+00, 7.52414185e+01,\n       5.33884018e+02, 2.30333924e+03, 5.22384299e+03, 8.41596660e+03,\n       1.08537671e+04, 1.19270178e+04, 1.19856397e+04, 1.17039418e+04,\n       1.16715555e+04, 1.24445986e+04, 1.29618550e+04, 1.20230391e+04,\n       1.20377425e+04, 1.26434659e+04, 1.24012680e+04, 1.08759560e+04,\n       8.87523588e+03, 6.85569402e+03, 4.84378377e+03, 2.91796192e+03,\n       1.10844668e+03, 1.39672375e+02, 8.86639995e+00, 7.94981734e-02,\n       0.00000000e+00, 0.00000000e+00, 4.63950502e+00, 8.33393904e+01,\n       6.29744755e+02, 2.69185746e+03, 5.62185375e+03, 8.53435292e+03,\n       1.06354679e+04, 1.16397177e+04, 1.17410232e+04, 1.17248709e+04,\n       1.20446633e+04, 1.27114555e+04, 1.27125078e+04, 1.20008852e+04,\n       1.24098689e+04, 1.26745406e+04, 1.20741286e+04, 1.08898533e+04,\n       9.21323231e+03, 7.22598679e+03, 5.04689745e+03, 2.90913735e+03,\n       1.12277645e+03, 1.91078386e+02, 2.57469149e+01, 1.29179123e+00,\n       0.00000000e+00, 7.69744852e-02, 1.03197870e+01, 1.11053766e+02,\n       8.11564748e+02, 3.07386387e+03, 5.91065656e+03, 8.36008213e+03,\n       1.01408287e+04, 1.10632136e+04, 1.12910607e+04, 1.14976813e+04,\n       1.20735231e+04, 1.27502876e+04, 1.26987222e+04, 1.23901805e+04,\n       1.26170244e+04, 1.23916950e+04, 1.17483338e+04, 1.09217037e+04,\n       9.48760960e+03, 7.35171522e+03, 5.01095743e+03, 2.72992609e+03,\n       1.04916705e+03, 2.25941630e+02, 3.05993271e+01, 2.87316363e+00,\n       0.00000000e+00, 2.28039253e-01, 1.74352649e+01, 1.69998742e+02,\n       1.10767541e+03, 3.43926495e+03, 6.05208363e+03, 8.08344097e+03,\n       9.50906305e+03, 1.03073030e+04, 1.06715518e+04, 1.10973680e+04,\n       1.17642567e+04, 1.22940460e+04, 1.25222837e+04, 1.24838281e+04,\n       1.23538616e+04, 1.20985659e+04, 1.17177753e+04, 1.10570877e+04,\n       9.47381642e+03, 7.19094489e+03, 4.63491474e+03, 2.42432309e+03,\n       9.17534777e+02, 2.34119338e+02, 3.27687618e+01, 1.59861539e+00,\n       1.47639388e-01, 4.47934602e-01, 2.76028871e+01, 2.71942488e+02,\n       1.45371251e+03, 3.83133451e+03, 6.28631187e+03, 8.14612790e+03,\n       9.30917203e+03, 1.00179199e+04, 1.05639229e+04, 1.09925571e+04,\n       1.13187529e+04, 1.19116163e+04, 1.23480093e+04, 1.23440430e+04,\n       1.21692394e+04, 1.21290528e+04, 1.19460348e+04, 1.11011974e+04,\n       9.19667530e+03, 6.71976236e+03, 4.18683656e+03, 2.12415117e+03,\n       8.18965786e+02, 2.22857925e+02, 2.54140760e+01, 1.36995713e+00,\n       0.00000000e+00, 1.81578450e+00, 4.96345920e+01, 3.80903626e+02,\n       1.68403918e+03, 4.10905800e+03, 6.66129020e+03, 8.56235623e+03,\n       9.76878976e+03, 1.05714566e+04, 1.11195093e+04, 1.14535438e+04,\n       1.17907581e+04, 1.21204054e+04, 1.24479360e+04, 1.23900112e+04,\n       1.22489975e+04, 1.23606302e+04, 1.19785927e+04, 1.06491638e+04,\n       8.49640625e+03, 5.95805507e+03, 3.53263357e+03, 1.70287256e+03,\n       6.43673157e+02, 1.79133677e+02, 2.84028991e+01, 6.28175963e-01,\n       0.00000000e+00, 1.23625493e+00, 5.65580767e+01, 4.36617659e+02,\n       1.67611596e+03, 3.91825583e+03, 6.61848502e+03, 8.93197399e+03,\n       1.05084494e+04, 1.14328933e+04, 1.19110401e+04, 1.21686631e+04,\n       1.23576844e+04, 1.24269771e+04, 1.24145723e+04, 1.24011494e+04,\n       1.23905027e+04, 1.22793811e+04, 1.14389559e+04, 9.61909799e+03,\n       7.11272858e+03, 4.61189510e+03, 2.55069845e+03, 1.22448673e+03,\n       4.85654757e+02, 1.30709778e+02, 1.54997227e+01, 5.95238095e-02,\n       2.43809524e-02, 5.50986923e-01, 4.58334020e+01, 3.50464999e+02,\n       1.27200240e+03, 3.19694301e+03, 5.84711073e+03, 8.57024623e+03,\n       1.06775424e+04, 1.19000918e+04, 1.23555360e+04, 1.24402093e+04,\n       1.23586522e+04, 1.21992581e+04, 1.22280936e+04, 1.23162507e+04,\n       1.22510127e+04, 1.16314635e+04, 1.00849238e+04, 7.71018098e+03,\n       5.16732671e+03, 2.99318809e+03, 1.58471510e+03, 7.70678750e+02,\n       2.90603130e+02, 7.36919311e+01, 9.81920114e+00, 3.62142857e-02,\n       2.28809524e-02, 2.76185941e-03, 2.81056704e+01, 2.04208025e+02,\n       7.29051694e+02, 2.00572701e+03, 4.21366647e+03, 6.92346357e+03,\n       9.57389827e+03, 1.14603398e+04, 1.24666788e+04, 1.27682484e+04,\n       1.26613017e+04, 1.25534327e+04, 1.25998206e+04, 1.23927837e+04,\n       1.15590439e+04, 9.88953142e+03, 7.53295513e+03, 5.11441259e+03,\n       3.05547189e+03, 1.66092585e+03, 8.39969863e+02, 3.84512312e+02,\n       1.34737119e+02, 2.71408189e+01, 3.06857624e+00, 1.23428571e-01,\n       0.00000000e+00, 0.00000000e+00, 7.31084788e+00, 7.57570670e+01,\n       3.18535551e+02, 8.92561149e+02, 2.13007164e+03, 4.15513729e+03,\n       6.67943441e+03, 9.08942045e+03, 1.08768840e+04, 1.18600478e+04,\n       1.22185140e+04, 1.21488922e+04, 1.16761724e+04, 1.06623427e+04,\n       8.88180421e+03, 6.72867491e+03, 4.52696553e+03, 2.78125867e+03,\n       1.57340674e+03, 7.99627345e+02, 3.90776811e+02, 1.74143994e+02,\n       5.13083781e+01, 8.53411049e+00, 1.14082626e+00, 0.00000000e+00,\n       0.00000000e+00, 0.00000000e+00, 3.09874806e+00, 2.12014616e+01,\n       9.01086432e+01, 2.89578069e+02, 7.37002996e+02, 1.63305438e+03,\n       3.00614325e+03, 4.75217719e+03, 6.42418657e+03, 7.68266614e+03,\n       8.23705320e+03, 8.21603450e+03, 7.48615583e+03, 6.25364040e+03,\n       4.88502834e+03, 3.50985901e+03, 2.25424437e+03, 1.40076179e+03,\n       7.54457368e+02, 3.85015891e+02, 1.70931569e+02, 7.23728862e+01,\n       1.53588609e+01, 3.76286683e+00, 2.36378952e-01, 0.00000000e+00,\n       0.00000000e+00, 0.00000000e+00, 7.89492516e-02, 3.23002085e+00,\n       2.66993369e+01, 8.62829380e+01, 2.42567552e+02, 5.74670736e+02,\n       1.16062824e+03, 1.85908331e+03, 2.63430007e+03, 3.18296192e+03,\n       3.47208469e+03, 3.42498298e+03, 3.04423070e+03, 2.59463417e+03,\n       2.08583729e+03, 1.54170230e+03, 1.04262030e+03, 6.17155891e+02,\n       3.32872699e+02, 1.63141373e+02, 6.60019146e+01, 2.49646484e+01,\n       2.80197112e+00, 5.64225568e-01, 2.57523810e-01, 0.00000000e+00,\n       0.00000000e+00, 0.00000000e+00, 0.00000000e+00, 0.00000000e+00,\n       5.85748256e+00, 2.32008075e+01, 9.24954784e+01, 2.19439668e+02,\n       4.27698080e+02, 6.31131067e+02, 9.05773738e+02, 1.16529687e+03,\n       1.28219277e+03, 1.23351933e+03, 1.09034012e+03, 8.82789099e+02,\n       7.26724558e+02, 5.23459986e+02, 3.45778063e+02, 2.08353021e+02,\n       1.10624593e+02, 4.18520306e+01, 1.58110107e+01, 3.40777397e+00,\n       1.94759195e-02, 8.28809524e-02, 0.00000000e+00, 0.00000000e+00,\n       0.00000000e+00, 0.00000000e+00, 0.00000000e+00, 0.00000000e+00,\n       0.00000000e+00, 9.02126602e-01, 5.52653803e+00, 1.54785620e+01,\n       2.06441456e+01, 3.43017827e+01, 5.21246770e+01, 7.97142975e+01,\n       1.00081387e+02, 1.02608696e+02, 1.26673478e+02, 1.14405059e+02,\n       8.98716430e+01, 6.32064973e+01, 3.98525769e+01, 2.14722761e+01,\n       1.07222715e+01, 3.09714228e+00, 3.58912164e+00, 1.71614970e-01,\n       0.00000000e+00, 0.00000000e+00, 0.00000000e+00, 0.00000000e+00])"
     },
     "execution_count": 4,
     "metadata": {},
     "output_type": "execute_result"
    }
   ],
   "source": [
    "import numpy as np\n",
    "x_fsvar = VarianceThreshold(np.median(x.var().values)).fit_transform(x)\n",
    "\n",
    "x.var().values"
   ],
   "metadata": {
    "collapsed": false,
    "pycharm": {
     "name": "#%%\n"
    }
   }
  },
  {
   "cell_type": "code",
   "execution_count": 5,
   "outputs": [],
   "source": [
    "x_bvar = VarianceThreshold(.8*(1-.8)).fit_transform(x)"
   ],
   "metadata": {
    "collapsed": false,
    "pycharm": {
     "name": "#%%\n"
    }
   }
  },
  {
   "cell_type": "code",
   "execution_count": 6,
   "outputs": [
    {
     "data": {
      "text/plain": "(42000, 300)"
     },
     "execution_count": 6,
     "metadata": {},
     "output_type": "execute_result"
    }
   ],
   "source": [
    "from sklearn.ensemble import RandomForestClassifier as RFC\n",
    "from sklearn.model_selection import cross_val_score\n",
    "from sklearn.feature_selection import chi2,SelectKBest\n",
    "\n",
    "x_fschi = SelectKBest(chi2,k=300).fit_transform(x_fsvar,y)\n",
    "x_fschi.shape\n"
   ],
   "metadata": {
    "collapsed": false,
    "pycharm": {
     "name": "#%%\n"
    }
   }
  },
  {
   "cell_type": "code",
   "execution_count": 37,
   "outputs": [
    {
     "data": {
      "text/plain": "0.9344761904761905"
     },
     "execution_count": 37,
     "metadata": {},
     "output_type": "execute_result"
    }
   ],
   "source": [
    "cross_val_score(RFC(n_estimators=10,random_state=0),x_fschi,y,cv=5).mean()"
   ],
   "metadata": {
    "collapsed": false,
    "pycharm": {
     "name": "#%%\n"
    }
   }
  },
  {
   "cell_type": "code",
   "execution_count": 41,
   "outputs": [
    {
     "data": {
      "text/plain": "<Figure size 432x288 with 1 Axes>",
      "image/png": "[encoded data removed]"
     },
     "metadata": {
      "needs_background": "light"
     },
     "output_type": "display_data"
    }
   ],
   "source": [
    "%matplotlib inline\n",
    "import matplotlib.pyplot as plt\n",
    "\n",
    "score = []\n",
    "for i in range(300,200,-10):\n",
    "    x_fschi = SelectKBest(chi2,k=i).fit_transform(x_fsvar,y)\n",
    "    once = cross_val_score(RFC(n_estimators=8,random_state=0),x_fschi,y,cv=5).mean()\n",
    "    score.append(once)\n",
    "\n",
    "plt.plot(range(300,200,-10),score)\n",
    "plt.show()"
   ],
   "metadata": {
    "collapsed": false,
    "pycharm": {
     "name": "#%%\n"
    }
   }
  },
  {
   "cell_type": "code",
   "execution_count": 13,
   "outputs": [],
   "source": [
    "chivalue,pvalues_chi = chi2(x_fsvar,y)"
   ],
   "metadata": {
    "collapsed": false,
    "pycharm": {
     "name": "#%%\n"
    }
   }
  },
  {
   "cell_type": "code",
   "execution_count": 12,
   "outputs": [
    {
     "data": {
      "text/plain": "(392,)"
     },
     "execution_count": 12,
     "metadata": {},
     "output_type": "execute_result"
    }
   ],
   "source": [
    "chivalue.shape"
   ],
   "metadata": {
    "collapsed": false,
    "pycharm": {
     "name": "#%%\n"
    }
   }
  },
  {
   "cell_type": "code",
   "execution_count": 14,
   "outputs": [
    {
     "data": {
      "text/plain": "array([0., 0., 0., 0., 0., 0., 0., 0., 0., 0., 0., 0., 0., 0., 0., 0., 0.,\n       0., 0., 0., 0., 0., 0., 0., 0., 0., 0., 0., 0., 0., 0., 0., 0., 0.,\n       0., 0., 0., 0., 0., 0., 0., 0., 0., 0., 0., 0., 0., 0., 0., 0., 0.,\n       0., 0., 0., 0., 0., 0., 0., 0., 0., 0., 0., 0., 0., 0., 0., 0., 0.,\n       0., 0., 0., 0., 0., 0., 0., 0., 0., 0., 0., 0., 0., 0., 0., 0., 0.,\n       0., 0., 0., 0., 0., 0., 0., 0., 0., 0., 0., 0., 0., 0., 0., 0., 0.,\n       0., 0., 0., 0., 0., 0., 0., 0., 0., 0., 0., 0., 0., 0., 0., 0., 0.,\n       0., 0., 0., 0., 0., 0., 0., 0., 0., 0., 0., 0., 0., 0., 0., 0., 0.,\n       0., 0., 0., 0., 0., 0., 0., 0., 0., 0., 0., 0., 0., 0., 0., 0., 0.,\n       0., 0., 0., 0., 0., 0., 0., 0., 0., 0., 0., 0., 0., 0., 0., 0., 0.,\n       0., 0., 0., 0., 0., 0., 0., 0., 0., 0., 0., 0., 0., 0., 0., 0., 0.,\n       0., 0., 0., 0., 0., 0., 0., 0., 0., 0., 0., 0., 0., 0., 0., 0., 0.,\n       0., 0., 0., 0., 0., 0., 0., 0., 0., 0., 0., 0., 0., 0., 0., 0., 0.,\n       0., 0., 0., 0., 0., 0., 0., 0., 0., 0., 0., 0., 0., 0., 0., 0., 0.,\n       0., 0., 0., 0., 0., 0., 0., 0., 0., 0., 0., 0., 0., 0., 0., 0., 0.,\n       0., 0., 0., 0., 0., 0., 0., 0., 0., 0., 0., 0., 0., 0., 0., 0., 0.,\n       0., 0., 0., 0., 0., 0., 0., 0., 0., 0., 0., 0., 0., 0., 0., 0., 0.,\n       0., 0., 0., 0., 0., 0., 0., 0., 0., 0., 0., 0., 0., 0., 0., 0., 0.,\n       0., 0., 0., 0., 0., 0., 0., 0., 0., 0., 0., 0., 0., 0., 0., 0., 0.,\n       0., 0., 0., 0., 0., 0., 0., 0., 0., 0., 0., 0., 0., 0., 0., 0., 0.,\n       0., 0., 0., 0., 0., 0., 0., 0., 0., 0., 0., 0., 0., 0., 0., 0., 0.,\n       0., 0., 0., 0., 0., 0., 0., 0., 0., 0., 0., 0., 0., 0., 0., 0., 0.,\n       0., 0., 0., 0., 0., 0., 0., 0., 0., 0., 0., 0., 0., 0., 0., 0., 0.,\n       0.])"
     },
     "execution_count": 14,
     "metadata": {},
     "output_type": "execute_result"
    }
   ],
   "source": [
    "pvalues_chi"
   ],
   "metadata": {
    "collapsed": false,
    "pycharm": {
     "name": "#%%\n"
    }
   }
  },
  {
   "cell_type": "code",
   "execution_count": 16,
   "outputs": [],
   "source": [
    "k = chivalue.shape[0] - (pvalues_chi > 0.05).sum()"
   ],
   "metadata": {
    "collapsed": false,
    "pycharm": {
     "name": "#%%\n"
    }
   }
  },
  {
   "cell_type": "code",
   "execution_count": 17,
   "outputs": [
    {
     "data": {
      "text/plain": "392"
     },
     "execution_count": 17,
     "metadata": {},
     "output_type": "execute_result"
    }
   ],
   "source": [
    "k"
   ],
   "metadata": {
    "collapsed": false,
    "pycharm": {
     "name": "#%%\n"
    }
   }
  },
  {
   "cell_type": "code",
   "execution_count": 19,
   "outputs": [],
   "source": [
    "from sklearn.feature_selection import mutual_info_classif as MIC\n",
    "result = MIC(x_fsvar,y)\n",
    "k = result.shape[0] - sum(result <= 0)\n"
   ],
   "metadata": {
    "collapsed": false,
    "pycharm": {
     "name": "#%%\n"
    }
   }
  }
 ],
 "metadata": {
  "kernelspec": {
   "name": "pycharm-5a6c15b5",
   "language": "python",
   "display_name": "PyCharm (machine_learning)"
  },
  "language_info": {
   "codemirror_mode": {
    "name": "ipython",
    "version": 2
   },
   "file_extension": ".py",
   "mimetype": "text/x-python",
   "name": "python",
   "nbconvert_exporter": "python",
   "pygments_lexer": "ipython2",
   "version": "2.7.6"
  }
 },
 "nbformat": 4,
 "nbformat_minor": 0
}