{
 "cells": [
  {
   "cell_type": "markdown",
   "id": "e1dc9ff5",
   "metadata": {},
   "source": [
    "案例介绍\n",
    "- 案例背景：以某大型电商平台的用户行为数据为数据集，使用大数据处理技术分析海量数据下的用户行为特征，并通过建立分类模型对用户行为做出预测；\n",
    "- 案例思路：\n",
    "    - 使用大数据处理技术读取海量数据\n",
    "    - 海量数据预处理\n",
    "    - 抽取部分数据调试模型\n",
    "    - 使用海量数据搭建模型"
   ]
  },
  {
   "cell_type": "code",
   "execution_count": 1,
   "id": "e582dd12",
   "metadata": {},
   "outputs": [],
   "source": [
    "#全部行输出\n",
    "from IPython.core.interactiveshell import InteractiveShell\n",
    "InteractiveShell.ast_node_interactivity = \"all\""
   ]
  },
  {
   "cell_type": "markdown",
   "id": "98920f2f",
   "metadata": {},
   "source": [
    "数据字典：  \n",
    "U_Id：the serialized ID that represents a user  \n",
    "T_Id：the serialized ID that represents an item  \n",
    "C_Id：the serialized ID that represents the category which the corresponding item belongs to  \n",
    "Ts：the timestamp of the behavior  \n",
    "Be_type：enum-type from ('pv', 'buy', 'cart', 'fav')  \n",
    "> pv: Page view of an item's detail page, equivalent to an item click  \n",
    "> buy: Purchase an item  \n",
    "> cart: Add an item to shopping cart  \n",
    "> fav: Favor an item"
   ]
  },
  {
   "cell_type": "markdown",
   "id": "2b7eeadf",
   "metadata": {},
   "source": [
    "# 读取数据"
   ]
  },
  {
   "cell_type": "markdown",
   "id": "c81ffe2f",
   "metadata": {},
   "source": [
    "这里关键是使用dask库来处理海量数据，它的大多数操作的运行速度比常规pandas等库快十倍左右。\n",
    "\n",
    "pandas在分析结构化数据方面非常的流行和强大，但是它最大的限制就在于设计时没有考虑到可伸缩性。pandas特别适合处理小型结构化数据，并且经过高度优化，可以对存储在内存中的数据执行快速高效的操作。然而随着数据量的大幅度增加，单机肯定会读取不下的，通过集群的方式来处理是最好的选择。这就是Dask DataFrame API发挥作用的地方：通过为pandas提供一个包装器，可以智能的将巨大的DataFrame分隔成更小的片段，并将它们分散到多个worker(帧)中，**并存储在磁盘中而不是RAM中**。\n",
    "\n",
    "Dask DataFrame会被分割成多个部门，每个部分称之为一个分区，每个分区都是一个相对较小的DataFrame，可以分配给任意的worker，并在需要复制时维护其完整数据。具体操作就是**对每个分区并行**或单独操作(多个机器的话也可以并行)，然后再将结果合并，其实从直观上也能推出Dask肯定是这么做的。"
   ]
  },
  {
   "cell_type": "code",
   "execution_count": 2,
   "id": "3e75df6c",
   "metadata": {},
   "outputs": [],
   "source": [
    "# 安装库（清华镜像）\n",
    "# pip install dask -i https://pypi.tuna.tsinghua.edu.cn/simple"
   ]
  },
  {
   "cell_type": "code",
   "execution_count": 2,
   "id": "06ee326f",
   "metadata": {},
   "outputs": [],
   "source": [
    "import gc   # 垃圾回收接口\n",
    "import dask   # 并行计算接口\n",
    "import numpy as np\n",
    "import pandas as pd\n",
    "import matplotlib.pyplot as plt\n",
    "import time\n",
    "import dask.dataframe as dd   # dask中的数表处理库\n",
    "import sys   # 外部参数获取接口"
   ]
  },
  {
   "cell_type": "markdown",
   "id": "79712a13",
   "metadata": {},
   "source": [
    "面对海量数据，跑完一个模块的代码就可以加一行gc.collect()来做内存碎片回收  "
   ]
  },
  {
   "cell_type": "code",
   "execution_count": 3,
   "id": "6bbfbdc9",
   "metadata": {},
   "outputs": [
    {
     "data": {
      "text/plain": [
       "15"
      ]
     },
     "execution_count": 3,
     "metadata": {},
     "output_type": "execute_result"
    }
   ],
   "source": [
    "gc.collect()"
   ]
  },
  {
   "cell_type": "markdown",
   "id": "43394944",
   "metadata": {},
   "source": [
    "Dask Dataframes与Pandas Dataframes具有相同的API"
   ]
  },
  {
   "cell_type": "markdown",
   "id": "3806bc15",
   "metadata": {},
   "source": [
    "与pandas不同，这里我们仅获取数据框的结构，而不是实际数据框。Dask已将数据帧分为几块加载，这些块存在于磁盘上，而不存在于RAM中。如果必须输出数据帧，则首先需要将所有数据帧都放入RAM，将它们缝合在一起，然后展示最终的数据帧。使用.compute()强迫它这样做，否则它不.compute() 。其实dask使用了一种延迟数据加载机制，这种延迟机制类似于python的迭代器组件，只有当需要使用数据的时候才会去真正加载数据。"
   ]
  },
  {
   "cell_type": "code",
   "execution_count": 4,
   "id": "d59da25a",
   "metadata": {
    "scrolled": true
   },
   "outputs": [
    {
     "data": {
      "text/html": [
       "<div><strong>Dask DataFrame Structure:</strong></div>\n",
       "<div>\n",
       "<style scoped>\n",
       "    .dataframe tbody tr th:only-of-type {\n",
       "        vertical-align: middle;\n",
       "    }\n",
       "\n",
       "    .dataframe tbody tr th {\n",
       "        vertical-align: top;\n",
       "    }\n",
       "\n",
       "    .dataframe thead th {\n",
       "        text-align: right;\n",
       "    }\n",
       "</style>\n",
       "<table border=\"1\" class=\"dataframe\">\n",
       "  <thead>\n",
       "    <tr style=\"text-align: right;\">\n",
       "      <th></th>\n",
       "      <th>U_Id</th>\n",
       "      <th>T_Id</th>\n",
       "      <th>C_Id</th>\n",
       "      <th>Be_type</th>\n",
       "      <th>Ts</th>\n",
       "    </tr>\n",
       "    <tr>\n",
       "      <th>npartitions=58</th>\n",
       "      <th></th>\n",
       "      <th></th>\n",
       "      <th></th>\n",
       "      <th></th>\n",
       "      <th></th>\n",
       "    </tr>\n",
       "  </thead>\n",
       "  <tbody>\n",
       "    <tr>\n",
       "      <th></th>\n",
       "      <td>int64</td>\n",
       "      <td>int64</td>\n",
       "      <td>int64</td>\n",
       "      <td>object</td>\n",
       "      <td>int64</td>\n",
       "    </tr>\n",
       "    <tr>\n",
       "      <th></th>\n",
       "      <td>...</td>\n",
       "      <td>...</td>\n",
       "      <td>...</td>\n",
       "      <td>...</td>\n",
       "      <td>...</td>\n",
       "    </tr>\n",
       "    <tr>\n",
       "      <th>...</th>\n",
       "      <td>...</td>\n",
       "      <td>...</td>\n",
       "      <td>...</td>\n",
       "      <td>...</td>\n",
       "      <td>...</td>\n",
       "    </tr>\n",
       "    <tr>\n",
       "      <th></th>\n",
       "      <td>...</td>\n",
       "      <td>...</td>\n",
       "      <td>...</td>\n",
       "      <td>...</td>\n",
       "      <td>...</td>\n",
       "    </tr>\n",
       "    <tr>\n",
       "      <th></th>\n",
       "      <td>...</td>\n",
       "      <td>...</td>\n",
       "      <td>...</td>\n",
       "      <td>...</td>\n",
       "      <td>...</td>\n",
       "    </tr>\n",
       "  </tbody>\n",
       "</table>\n",
       "</div>\n",
       "<div>Dask Name: read-csv, 58 tasks</div>"
      ],
      "text/plain": [
       "Dask DataFrame Structure:\n",
       "                 U_Id   T_Id   C_Id Be_type     Ts\n",
       "npartitions=58                                    \n",
       "                int64  int64  int64  object  int64\n",
       "                  ...    ...    ...     ...    ...\n",
       "...               ...    ...    ...     ...    ...\n",
       "                  ...    ...    ...     ...    ...\n",
       "                  ...    ...    ...     ...    ...\n",
       "Dask Name: read-csv, 58 tasks"
      ]
     },
     "execution_count": 4,
     "metadata": {},
     "output_type": "execute_result"
    }
   ],
   "source": [
    "# 读取数据\n"
   ]
  },
  {
   "cell_type": "code",
   "execution_count": null,
   "id": "9157e9bb",
   "metadata": {},
   "outputs": [],
   "source": []
  },
  {
   "cell_type": "markdown",
   "id": "4cbbc84c",
   "metadata": {},
   "source": [
    "# 数据预处理"
   ]
  },
  {
   "cell_type": "markdown",
   "id": "1db651ca",
   "metadata": {},
   "source": [
    "## 数据压缩"
   ]
  },
  {
   "cell_type": "code",
   "execution_count": 7,
   "id": "024f3ff6",
   "metadata": {
    "scrolled": true
   },
   "outputs": [],
   "source": [
    "types = {'U_Id':'uint32',\n",
    "         'T_Id':'uint32',\n",
    "         'C_Id':'uint32',\n",
    "         'Be_type':'object',\n",
    "         'Ts':'int64'\n",
    "}\n"
   ]
  },
  {
   "cell_type": "code",
   "execution_count": null,
   "id": "d45f8f21",
   "metadata": {},
   "outputs": [],
   "source": []
  },
  {
   "cell_type": "markdown",
   "id": "44119d53",
   "metadata": {},
   "source": [
    "## 缺失值"
   ]
  },
  {
   "cell_type": "code",
   "execution_count": 9,
   "id": "3428a0e1",
   "metadata": {},
   "outputs": [
    {
     "data": {
      "text/plain": [
       "Dask Series Structure:\n",
       "npartitions=1\n",
       "Be_type    int64\n",
       "U_Id         ...\n",
       "dtype: int64\n",
       "Dask Name: dataframe-sum-agg, 233 tasks"
      ]
     },
     "execution_count": 9,
     "metadata": {},
     "output_type": "execute_result"
    }
   ],
   "source": []
  },
  {
   "cell_type": "markdown",
   "id": "b5d2f089",
   "metadata": {},
   "source": [
    "## 数据探索与可视化"
   ]
  },
  {
   "cell_type": "markdown",
   "id": "1a2a5466",
   "metadata": {},
   "source": [
    "除了matplotlib和seaborn，我们还可以使用pyecharts库。  \n",
    "pyecharts是一款将python与百度开源的echarts结合的数据可视化工具。新版的1.X和旧版的0.5.X版本代码规则大不相同，新版详见官方文档https://gallery.pyecharts.org/#/README"
   ]
  },
  {
   "cell_type": "code",
   "execution_count": 24,
   "id": "6725df71",
   "metadata": {
    "collapsed": true
   },
   "outputs": [
    {
     "name": "stdout",
     "output_type": "stream",
     "text": [
      "Looking in indexes: https://pypi.tuna.tsinghua.edu.cn/simple\n",
      "Requirement already satisfied: pyecharts in d:\\anaconda\\lib\\site-packages (0.1.9.4)\n",
      "Requirement already satisfied: jinja2 in d:\\anaconda\\lib\\site-packages (from pyecharts) (3.0.2)\n",
      "Requirement already satisfied: future in d:\\anaconda\\lib\\site-packages (from pyecharts) (0.18.2)\n",
      "Requirement already satisfied: pillow in d:\\anaconda\\lib\\site-packages (from pyecharts) (8.3.2)\n",
      "Requirement already satisfied: MarkupSafe>=2.0 in d:\\anaconda\\lib\\site-packages (from jinja2->pyecharts) (2.0.1)\n",
      "Note: you may need to restart the kernel to use updated packages.\n"
     ]
    },
    {
     "name": "stderr",
     "output_type": "stream",
     "text": [
      "WARNING: Ignoring invalid distribution -umpy (d:\\anaconda\\lib\\site-packages)\n",
      "WARNING: Ignoring invalid distribution -ip (d:\\anaconda\\lib\\site-packages)\n",
      "WARNING: Ignoring invalid distribution -umpy (d:\\anaconda\\lib\\site-packages)\n",
      "WARNING: Ignoring invalid distribution -ip (d:\\anaconda\\lib\\site-packages)\n",
      "WARNING: Ignoring invalid distribution -umpy (d:\\anaconda\\lib\\site-packages)\n",
      "WARNING: Ignoring invalid distribution -ip (d:\\anaconda\\lib\\site-packages)\n",
      "WARNING: Ignoring invalid distribution -umpy (d:\\anaconda\\lib\\site-packages)\n",
      "WARNING: Ignoring invalid distribution -ip (d:\\anaconda\\lib\\site-packages)\n",
      "WARNING: Ignoring invalid distribution -umpy (d:\\anaconda\\lib\\site-packages)\n",
      "WARNING: Ignoring invalid distribution -ip (d:\\anaconda\\lib\\site-packages)\n"
     ]
    }
   ],
   "source": [
    "# pip install pyecharts -i https://pypi.tuna.tsinghua.edu.cn/simple"
   ]
  },
  {
   "cell_type": "markdown",
   "id": "b51c73d3",
   "metadata": {},
   "source": [
    "### 饼图"
   ]
  },
  {
   "cell_type": "code",
   "execution_count": 23,
   "id": "71dd81ac",
   "metadata": {},
   "outputs": [],
   "source": [
    "# 这里我们以漏斗图为例，其余的图请同学们自己完成\n"
   ]
  },
  {
   "cell_type": "markdown",
   "id": "b0a46ae0",
   "metadata": {},
   "source": [
    "### 漏斗图"
   ]
  },
  {
   "cell_type": "markdown",
   "id": "6bd36090",
   "metadata": {},
   "source": [
    "### 涟漪散点图"
   ]
  },
  {
   "cell_type": "markdown",
   "id": "413679a4",
   "metadata": {},
   "source": [
    "### 象形柱图"
   ]
  },
  {
   "cell_type": "markdown",
   "id": "c010617a",
   "metadata": {},
   "source": [
    "### 多维散点图"
   ]
  },
  {
   "cell_type": "markdown",
   "id": "e0959f19",
   "metadata": {},
   "source": [
    "### 时间轴"
   ]
  },
  {
   "cell_type": "markdown",
   "id": "171d993a",
   "metadata": {},
   "source": [
    "### 词云图"
   ]
  },
  {
   "cell_type": "markdown",
   "id": "53ed145d",
   "metadata": {},
   "source": [
    "# 时间戳问题"
   ]
  },
  {
   "cell_type": "markdown",
   "id": "22b821c2",
   "metadata": {},
   "source": [
    "dask对于时间戳的支持非常不友好"
   ]
  },
  {
   "cell_type": "code",
   "execution_count": null,
   "id": "52c3397d",
   "metadata": {},
   "outputs": [],
   "source": []
  },
  {
   "cell_type": "markdown",
   "id": "86971c3c",
   "metadata": {},
   "source": [
    "# 特征工程"
   ]
  },
  {
   "cell_type": "markdown",
   "id": "6ad183b0",
   "metadata": {},
   "source": [
    "思路：不考虑时间窗口，只以用户的点击和收藏等行为来预测是否购买  \n",
    "流程：以用户ID(U_Id)为分组键，将每位用户的点击、收藏、加购物车的行为统计出来，分别为\n",
    "> 是否点击，点击次数；是否收藏，收藏次数；是否加购物车，加购物车次数  \n",
    "\n",
    "以此来预测最终是否购买"
   ]
  },
  {
   "cell_type": "code",
   "execution_count": 24,
   "id": "750d0ac0",
   "metadata": {},
   "outputs": [],
   "source": [
    "# 去掉时间戳\n"
   ]
  },
  {
   "cell_type": "markdown",
   "id": "b1f8b0c4",
   "metadata": {},
   "source": [
    "## 行为类型"
   ]
  },
  {
   "cell_type": "code",
   "execution_count": 32,
   "id": "9fb00042",
   "metadata": {},
   "outputs": [],
   "source": [
    "from collections import Counter   # 计数器包"
   ]
  },
  {
   "cell_type": "code",
   "execution_count": null,
   "id": "a641acdb",
   "metadata": {},
   "outputs": [],
   "source": []
  },
  {
   "cell_type": "markdown",
   "id": "45b18ea0",
   "metadata": {},
   "source": [
    "### 点击次数"
   ]
  },
  {
   "cell_type": "code",
   "execution_count": null,
   "id": "5fcd4ec3",
   "metadata": {},
   "outputs": [],
   "source": []
  },
  {
   "cell_type": "markdown",
   "id": "c5a95eb2",
   "metadata": {},
   "source": [
    "### 加购次数"
   ]
  },
  {
   "cell_type": "code",
   "execution_count": null,
   "id": "e4bd1f77",
   "metadata": {},
   "outputs": [],
   "source": []
  },
  {
   "cell_type": "markdown",
   "id": "635edc17",
   "metadata": {},
   "source": [
    "### 收藏次数"
   ]
  },
  {
   "cell_type": "code",
   "execution_count": null,
   "id": "3ee684f8",
   "metadata": {},
   "outputs": [],
   "source": []
  },
  {
   "cell_type": "markdown",
   "id": "2ef58492",
   "metadata": {},
   "source": [
    "## 相关分析"
   ]
  },
  {
   "cell_type": "code",
   "execution_count": null,
   "id": "8d950a80",
   "metadata": {},
   "outputs": [],
   "source": []
  },
  {
   "cell_type": "markdown",
   "id": "708de651",
   "metadata": {},
   "source": [
    "是否加购与加购次数、是否收藏与收藏次数之间存在一定相关性，但经验证剔除其中之一与纳入全部变量效果基本一致，故之后使用全部变量建模。"
   ]
  },
  {
   "cell_type": "markdown",
   "id": "bd9b5aa9",
   "metadata": {},
   "source": [
    "## 数据标签"
   ]
  },
  {
   "cell_type": "code",
   "execution_count": 98,
   "id": "2d3634d2",
   "metadata": {},
   "outputs": [],
   "source": [
    "import seaborn as sns"
   ]
  },
  {
   "cell_type": "code",
   "execution_count": 25,
   "id": "9102937a",
   "metadata": {},
   "outputs": [],
   "source": [
    "#是否购买（Label）\n"
   ]
  },
  {
   "cell_type": "markdown",
   "id": "019e0530",
   "metadata": {},
   "source": [
    "# 建立模型"
   ]
  },
  {
   "cell_type": "markdown",
   "id": "50c3d1d1",
   "metadata": {},
   "source": [
    "## 划分数据集"
   ]
  },
  {
   "cell_type": "code",
   "execution_count": 102,
   "id": "8069372b",
   "metadata": {},
   "outputs": [],
   "source": [
    "from sklearn.model_selection import train_test_split"
   ]
  },
  {
   "cell_type": "code",
   "execution_count": null,
   "id": "e249fbd1",
   "metadata": {},
   "outputs": [],
   "source": []
  },
  {
   "cell_type": "markdown",
   "id": "4012b0b7",
   "metadata": {},
   "source": [
    "## 分类模型"
   ]
  },
  {
   "cell_type": "markdown",
   "id": "f30f31f5",
   "metadata": {},
   "source": [
    "### 模型建立"
   ]
  },
  {
   "cell_type": "code",
   "execution_count": 43,
   "id": "b9d68834",
   "metadata": {},
   "outputs": [],
   "source": [
    "from sklearn.linear_model import LogisticRegression"
   ]
  },
  {
   "cell_type": "code",
   "execution_count": 44,
   "id": "1cf6ea4a",
   "metadata": {},
   "outputs": [],
   "source": []
  },
  {
   "cell_type": "code",
   "execution_count": 26,
   "id": "988113e7",
   "metadata": {},
   "outputs": [],
   "source": [
    "#简单测试\n"
   ]
  },
  {
   "cell_type": "markdown",
   "id": "c59e3e2a",
   "metadata": {},
   "source": [
    "### 模型评估"
   ]
  },
  {
   "cell_type": "code",
   "execution_count": 46,
   "id": "fc0c7d07",
   "metadata": {},
   "outputs": [],
   "source": [
    "from sklearn import metrics\n",
    "from sklearn.metrics import classification_report\n",
    "from sklearn.metrics import auc,roc_curve"
   ]
  },
  {
   "cell_type": "code",
   "execution_count": 27,
   "id": "da803647",
   "metadata": {},
   "outputs": [],
   "source": [
    "#分类报告\n"
   ]
  },
  {
   "cell_type": "code",
   "execution_count": 28,
   "id": "bf360754",
   "metadata": {},
   "outputs": [],
   "source": [
    "#roc曲线\n"
   ]
  },
  {
   "cell_type": "code",
   "execution_count": null,
   "id": "b398cf11",
   "metadata": {},
   "outputs": [],
   "source": []
  }
 ],
 "metadata": {
  "kernelspec": {
   "display_name": "Python 3 (ipykernel)",
   "language": "python",
   "name": "python3"
  },
  "language_info": {
   "codemirror_mode": {
    "name": "ipython",
    "version": 3
   },
   "file_extension": ".py",
   "mimetype": "text/x-python",
   "name": "python",
   "nbconvert_exporter": "python",
   "pygments_lexer": "ipython3",
   "version": "3.8.8"
  },
  "toc": {
   "base_numbering": 1,
   "nav_menu": {},
   "number_sections": true,
   "sideBar": true,
   "skip_h1_title": false,
   "title_cell": "Table of Contents",
   "title_sidebar": "Contents",
   "toc_cell": false,
   "toc_position": {
    "height": "calc(100% - 180px)",
    "left": "10px",
    "top": "150px",
    "width": "202.475px"
   },
   "toc_section_display": true,
   "toc_window_display": true
  }
 },
 "nbformat": 4,
 "nbformat_minor": 5
}
