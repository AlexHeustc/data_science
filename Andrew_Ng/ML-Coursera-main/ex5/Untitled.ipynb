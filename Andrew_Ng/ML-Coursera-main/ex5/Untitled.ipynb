{
 "cells": [
  {
   "cell_type": "code",
   "execution_count": 1,
   "id": "89d03f32-a47f-4eda-b36d-a2093511fdbf",
   "metadata": {},
   "outputs": [],
   "source": [
    "import numpy as np\n",
    "import scipy.io as sio\n",
    "import scipy.optimize as opt\n",
    "import pandas as pd\n",
    "import matplotlib.pyplot as plt\n",
    "import seaborn as sns"
   ]
  },
  {
   "cell_type": "code",
   "execution_count": 2,
   "id": "0bd222a6-f165-45c6-90f2-8cd1436bb555",
   "metadata": {},
   "outputs": [
    {
     "data": {
      "text/plain": "((12,), (12,), (21,), (21,), (21,), (21,))"
     },
     "execution_count": 2,
     "metadata": {},
     "output_type": "execute_result"
    }
   ],
   "source": [
    "data = sio.loadmat(\"ex5data1.mat\")\n",
    "data\n",
    "X, y, Xval, yval, Xtest, ytest = map(np.ravel,[data['X'], data['y'], data['Xval'], data['yval'], data['Xtest'], data['ytest']])\n",
    "X.shape, y.shape, Xval.shape, yval.shape, Xtest.shape, ytest.shape"
   ]
  },
  {
   "cell_type": "code",
   "execution_count": 3,
   "id": "279ffcda-1006-4bcf-b1f4-e19bd48e1b9c",
   "metadata": {},
   "outputs": [
    {
     "data": {
      "text/plain": "<Figure size 864x576 with 1 Axes>",
      "image/png": "[encoded data removed]"
     },
     "metadata": {
      "needs_background": "light"
     },
     "output_type": "display_data"
    }
   ],
   "source": [
    "fig,ax = plt.subplots(figsize=(12,8))\n",
    "ax.scatter(X,y)\n",
    "ax.set_xlabel(\"water_level\")\n",
    "ax.set_ylabel(\"flow\")\n",
    "plt.show()"
   ]
  },
  {
   "cell_type": "code",
   "execution_count": 4,
   "id": "5ba4d1ac-0e45-4b38-a930-8158a5a441a0",
   "metadata": {},
   "outputs": [],
   "source": [
    "X,Xval,Xtest = [np.insert(x.reshape(x.shape[0],1),0,values=np.ones(x.shape[0]),axis = 1) for x in (X,Xval,Xtest)]"
   ]
  },
  {
   "cell_type": "code",
   "execution_count": 5,
   "id": "cd04cfd8-d245-48cf-9b2a-02926fe4ccc2",
   "metadata": {},
   "outputs": [
    {
     "data": {
      "text/plain": "((12, 2), (21, 2), (21, 2))"
     },
     "execution_count": 5,
     "metadata": {},
     "output_type": "execute_result"
    }
   ],
   "source": [
    "X.shape,Xval.shape,Xtest.shape"
   ]
  },
  {
   "cell_type": "code",
   "execution_count": 6,
   "id": "fdfa3632-bb34-40b4-b82f-3825e6856b16",
   "metadata": {},
   "outputs": [],
   "source": [
    "def cost(theta,X,y):\n",
    "    m=X.shape[0]\n",
    "    inner = X @ theta -y\n",
    "    inner_square = inner.T @ inner\n",
    "    \n",
    "    return inner_square/(2*m)\n",
    "    "
   ]
  },
  {
   "cell_type": "code",
   "execution_count": 7,
   "id": "f5eec9dc-ca04-4125-8a88-967b01237577",
   "metadata": {},
   "outputs": [],
   "source": [
    "def costReg(theta,X,y,reg=1):\n",
    "    m=X.shape[0]\n",
    "    regularized_term=(reg/(2*m))*np.power(theta.ravel()[1:],2).sum()\n",
    "    \n",
    "    return cost(theta,X,y)+regularized_term\n"
   ]
  },
  {
   "cell_type": "code",
   "execution_count": 8,
   "id": "3b1e8d92-685a-41ca-908f-f089d8a3854f",
   "metadata": {},
   "outputs": [
    {
     "data": {
      "text/plain": "303.9931922202643"
     },
     "execution_count": 8,
     "metadata": {},
     "output_type": "execute_result"
    }
   ],
   "source": [
    "theta=np.ones(X.shape[1])\n",
    "costReg(theta,X,y)"
   ]
  },
  {
   "cell_type": "code",
   "execution_count": 9,
   "id": "c811a8ae-dd97-499b-a49a-a77fc4de001f",
   "metadata": {},
   "outputs": [
    {
     "data": {
      "text/plain": "((12, 2), (2,), (12,))"
     },
     "execution_count": 9,
     "metadata": {},
     "output_type": "execute_result"
    }
   ],
   "source": [
    "X.shape,theta.shape,y.shape"
   ]
  },
  {
   "cell_type": "code",
   "execution_count": 10,
   "id": "cf9140ed-c5fd-4692-9dc6-86eedb274afe",
   "metadata": {},
   "outputs": [],
   "source": [
    "def gradient(theta,X,y):\n",
    "    m=X.shape[0]\n",
    "    inner = X.T @ (X @ theta - y)\n",
    "    \n",
    "    return inner / m"
   ]
  },
  {
   "cell_type": "code",
   "execution_count": 11,
   "id": "137df8ef-ea64-4d37-ba47-f599cbfbce56",
   "metadata": {},
   "outputs": [],
   "source": [
    "def gradientReg(theta,X,y,reg):\n",
    "    m = X.shape[0]\n",
    "    \n",
    "    term = theta.copy()\n",
    "    term[0] = 0\n",
    "    \n",
    "    term = (reg / m)*term\n",
    "    \n",
    "    return gradient(theta,X,y) + term"
   ]
  },
  {
   "cell_type": "code",
   "execution_count": 12,
   "id": "c31cfd6c-54c5-4050-817c-f2c3e4c145cf",
   "metadata": {},
   "outputs": [
    {
     "data": {
      "text/plain": "array([-15.30301567, 598.25074417])"
     },
     "execution_count": 12,
     "metadata": {},
     "output_type": "execute_result"
    }
   ],
   "source": [
    "gradientReg(theta,X,y,1)"
   ]
  },
  {
   "cell_type": "code",
   "execution_count": 13,
   "id": "046e92c2-4f45-462a-8d82-25eeffc6c10c",
   "metadata": {},
   "outputs": [],
   "source": [
    "theta=np.ones(X.shape[1])"
   ]
  },
  {
   "cell_type": "code",
   "execution_count": 14,
   "id": "71626abe-dabf-4f31-a736-2f2112096efe",
   "metadata": {},
   "outputs": [
    {
     "data": {
      "text/plain": "array([13.08790398,  0.36777923])"
     },
     "execution_count": 14,
     "metadata": {},
     "output_type": "execute_result"
    }
   ],
   "source": [
    "final_theta = opt.minimize(fun=costReg,x0=theta,args=(X,y,0),method='TNC',jac=gradientReg,options={'disp':True}).x\n",
    "final_theta"
   ]
  },
  {
   "cell_type": "code",
   "execution_count": 15,
   "id": "f828afa3-e2ed-4f1e-93b7-4074eb4a847e",
   "metadata": {},
   "outputs": [
    {
     "data": {
      "text/plain": "((12, 2), (12,))"
     },
     "execution_count": 15,
     "metadata": {},
     "output_type": "execute_result"
    }
   ],
   "source": [
    "X.shape,y.shape"
   ]
  },
  {
   "cell_type": "code",
   "execution_count": 16,
   "id": "f55d291a-7b40-4f25-a824-555d833b6c93",
   "metadata": {},
   "outputs": [
    {
     "data": {
      "text/plain": "<Figure size 864x576 with 1 Axes>",
      "image/png": "[encoded data removed]"
     },
     "metadata": {
      "needs_background": "light"
     },
     "output_type": "display_data"
    }
   ],
   "source": [
    "b=final_theta[0]\n",
    "m=final_theta[1]\n",
    "\n",
    "fig,ax = plt.subplots(figsize=(12,8))\n",
    "plt.scatter(X[:,1],y,c='r',label=\"Training data\")\n",
    "plt.plot(X[:,1],X[:,0]*b+X[:,1]*m,c='b',label=\"Prediction\")\n",
    "ax.set_xlabel('water_level')\n",
    "ax.set_ylabel('flow')\n",
    "plt.legend()\n",
    "plt.show()"
   ]
  },
  {
   "cell_type": "code",
   "execution_count": 30,
   "id": "997bf4a7-9ea6-4c93-b2d3-e00e7115b035",
   "metadata": {},
   "outputs": [],
   "source": [
    "def linear_regression(X,y,l=1):\n",
    "    \n",
    "    theta = np.ones(X.shape[1])\n",
    "    \n",
    "    res = opt.minimize(fun=costReg,\n",
    "                       x0=theta,\n",
    "                       args=(X, y, l),\n",
    "                       method='TNC',\n",
    "                       jac=gradientReg,\n",
    "                       options={'disp':True})\n",
    "    return res\n",
    "    "
   ]
  },
  {
   "cell_type": "code",
   "execution_count": 31,
   "id": "895caf37-2c78-4e37-b56d-c9386d61ca10",
   "metadata": {},
   "outputs": [],
   "source": [
    "training_cost=[]\n",
    "cv_cost=[]"
   ]
  },
  {
   "cell_type": "code",
   "execution_count": 32,
   "id": "01aed868-ba0f-4f23-b6f0-0f934ada92ec",
   "metadata": {},
   "outputs": [],
   "source": [
    "m=X.shape[0]\n",
    "for i in range(1,m+1):\n",
    "    res = linear_regression(X[:i, :], y[:i], 0)\n",
    "    tc = costReg(res.x,X[:i,:],y[:i],0)\n",
    "    cv = costReg(res.x,Xval,yval,0)\n",
    "\n",
    "    training_cost.append(tc)\n",
    "    cv_cost.append(cv)\n"
   ]
  },
  {
   "cell_type": "code",
   "execution_count": 33,
   "outputs": [
    {
     "data": {
      "text/plain": "<Figure size 864x576 with 1 Axes>",
      "image/png": "[encoded data removed]"
     },
     "metadata": {
      "needs_background": "light"
     },
     "output_type": "display_data"
    }
   ],
   "source": [
    "fig,ax = plt.subplots(figsize=(12,8))\n",
    "plt.plot(range(1,m+1),training_cost,c='r',label=\"tc\")\n",
    "plt.plot(range(1,m+1),cv_cost,c='b',label=\"cv\")\n",
    "plt.xlabel(range(1,m+1))\n",
    "plt.ylabel(\"cost\")\n",
    "plt.legend()\n",
    "plt.show()"
   ],
   "metadata": {
    "collapsed": false,
    "pycharm": {
     "name": "#%%\n"
    }
   }
  },
  {
   "cell_type": "code",
   "execution_count": 36,
   "outputs": [
    {
     "data": {
      "text/plain": "(12, 2)"
     },
     "execution_count": 36,
     "metadata": {},
     "output_type": "execute_result"
    }
   ],
   "source": [
    "X.shape"
   ],
   "metadata": {
    "collapsed": false,
    "pycharm": {
     "name": "#%%\n"
    }
   }
  },
  {
   "cell_type": "code",
   "execution_count": 44,
   "outputs": [],
   "source": [
    "power = 6\n",
    "\n",
    "def feature_mapping(x,power,as_ndarry=False):\n",
    "    data={'f{}'.format(i):np.power(x,i) for i in range(1,power+1)}\n",
    "    df=pd.DataFrame(data)\n",
    "    return df.values if as_ndarry else df\n"
   ],
   "metadata": {
    "collapsed": false,
    "pycharm": {
     "name": "#%%\n"
    }
   }
  },
  {
   "cell_type": "code",
   "execution_count": 45,
   "outputs": [],
   "source": [
    "data = sio.loadmat('ex5data1.mat')\n",
    "X,y,Xval,yval,Xtest,ytest=map(np.ravel,[data['X'], data['y'], data['Xval'], data['yval'], data['Xtest'], data['ytest']])"
   ],
   "metadata": {
    "collapsed": false,
    "pycharm": {
     "name": "#%%\n"
    }
   }
  },
  {
   "cell_type": "code",
   "execution_count": 47,
   "outputs": [],
   "source": [
    "X_new = feature_mapping(X,power=6)"
   ],
   "metadata": {
    "collapsed": false,
    "pycharm": {
     "name": "#%%\n"
    }
   }
  },
  {
   "cell_type": "code",
   "execution_count": 51,
   "outputs": [],
   "source": [
    "def normalize_feature(df):\n",
    "    return df.apply(lambda column:(column - column.mean())/column.std())"
   ],
   "metadata": {
    "collapsed": false,
    "pycharm": {
     "name": "#%%\n"
    }
   }
  },
  {
   "cell_type": "code",
   "execution_count": 52,
   "outputs": [],
   "source": [
    "def prepare_poly_data(*args,power):\n",
    "    def prepare(X):\n",
    "        df = feature_mapping(X,power=power)\n",
    "        ndarr=normalize_feature(df).values\n",
    "        return np.insert(ndarr,0,np.ones(ndarr.shape[0]),axis=1)\n",
    "    return [prepare(X) for X in args]\n"
   ],
   "metadata": {
    "collapsed": false,
    "pycharm": {
     "name": "#%%\n"
    }
   }
  },
  {
   "cell_type": "code",
   "execution_count": 65,
   "outputs": [
    {
     "data": {
      "text/plain": "array([[ 1.00000000e+00, -3.62140776e-01, -7.55086688e-01,\n         1.82225876e-01, -7.06189908e-01,  3.06617917e-01,\n        -5.90877673e-01,  3.44515797e-01, -5.08481165e-01],\n       [ 1.00000000e+00, -8.03204845e-01,  1.25825266e-03,\n        -2.47936991e-01, -3.27023420e-01,  9.33963187e-02,\n        -4.35817606e-01,  2.55416116e-01, -4.48912493e-01],\n       [ 1.00000000e+00,  1.37746700e+00,  5.84826715e-01,\n         1.24976856e+00,  2.45311974e-01,  9.78359696e-01,\n        -1.21556976e-02,  7.56568484e-01, -1.70352114e-01]])"
     },
     "execution_count": 65,
     "metadata": {},
     "output_type": "execute_result"
    }
   ],
   "source": [
    "X_poly, Xval_poly, Xtest_poly= prepare_poly_data(X, Xval, Xtest, power=8)\n",
    "X_poly[:3,:]"
   ],
   "metadata": {
    "collapsed": false,
    "pycharm": {
     "name": "#%%\n"
    }
   }
  },
  {
   "cell_type": "code",
   "execution_count": 70,
   "outputs": [],
   "source": [
    "def plot_learning_curve(X, Xinit, y, Xval, yval, l=0):\n",
    "    training_cost=[]\n",
    "    cv_cost=[]\n",
    "    m=X.shape[0]\n",
    "\n",
    "    for i in range(1,m+1):\n",
    "\n",
    "        res = linear_regression(X[:i,:],y[:i],l=1)\n",
    "\n",
    "        training_cost.append(cost(res.x,X[:i,:],y[:i]))\n",
    "        cv_cost.append(cost(res.x,Xval,yval))\n",
    "\n",
    "    fig,ax = plt.subplots(2,1,figsize=(12,8))\n",
    "    ax[0].plot(np.arange(1,m+1),training_cost,c='r',label=\"tc\")\n",
    "    ax[0].plot(np.arange(1,m+1),cv_cost,c='b',label=\"cv\")\n",
    "    ax[0].set_xlabel(range(1,m+1))\n",
    "    ax[0].set_ylabel(\"cost\")\n",
    "    ax[0].legend()\n",
    "\n",
    "    fitx=np.linspace(-50,50,1000)\n",
    "    fitxtemp = prepare_poly_data(fitx,power=8)\n",
    "    fity = np.dot(prepare_poly_data(fitx,power=8)[0],linear_regression(X,y,l).x.T)\n",
    "\n",
    "    ax[1].plot(fitx, fity, c='r', label='fitcurve')\n",
    "    ax[1].scatter(Xinit, y, c='b', label='initial_Xy')\n",
    "\n",
    "    ax[1].set_xlabel('water_level')\n",
    "    ax[1].set_ylabel('flow')"
   ],
   "metadata": {
    "collapsed": false,
    "pycharm": {
     "name": "#%%\n"
    }
   }
  },
  {
   "cell_type": "code",
   "execution_count": 71,
   "outputs": [
    {
     "data": {
      "text/plain": "<Figure size 864x576 with 2 Axes>",
      "image/png": "[encoded data removed]"
     },
     "metadata": {
      "needs_background": "light"
     },
     "output_type": "display_data"
    }
   ],
   "source": [
    "\n",
    "plot_learning_curve(X_poly, X, y, Xval_poly, yval, l=0)\n",
    "plt.show()"
   ],
   "metadata": {
    "collapsed": false,
    "pycharm": {
     "name": "#%%\n"
    }
   }
  },
  {
   "cell_type": "code",
   "execution_count": null,
   "outputs": [],
   "source": [],
   "metadata": {
    "collapsed": false,
    "pycharm": {
     "name": "#%%\n"
    }
   }
  },
  {
   "cell_type": "code",
   "execution_count": null,
   "outputs": [],
   "source": [],
   "metadata": {
    "collapsed": false,
    "pycharm": {
     "name": "#%%\n"
    }
   }
  }
 ],
 "metadata": {
  "kernelspec": {
   "display_name": "PyCharm (machine_learning)",
   "language": "python",
   "name": "pycharm-5a6c15b5"
  },
  "language_info": {
   "codemirror_mode": {
    "name": "ipython",
    "version": 3
   },
   "file_extension": ".py",
   "mimetype": "text/x-python",
   "name": "python",
   "nbconvert_exporter": "python",
   "pygments_lexer": "ipython3",
   "version": "3.8.8"
  }
 },
 "nbformat": 4,
 "nbformat_minor": 5
}