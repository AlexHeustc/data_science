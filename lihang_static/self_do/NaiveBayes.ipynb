{
 "cells": [
  {
   "cell_type": "code",
   "execution_count": 1,
   "metadata": {},
   "outputs": [],
   "source": [
    "import numpy as np\n",
    "import pandas as pd\n",
    "import matplotlib.pyplot as plt\n",
    "%matplotlib inline\n",
    "\n",
    "from sklearn.datasets import load_iris\n",
    "from sklearn.model_selection import train_test_split\n",
    "\n",
    "from collections import Counter\n",
    "import math"
   ]
  },
  {
   "cell_type": "code",
   "execution_count": 15,
   "metadata": {},
   "outputs": [],
   "source": [
    "#data \n",
    "def create_data():\n",
    "    iris = load_iris()\n",
    "    df = pd.DataFrame(data=iris.data,columns=iris.feature_names)\n",
    "    df['label'] = iris.target\n",
    "    df.columns =  [\n",
    "        'sepal length', 'sepal width', 'petal length', 'petal width', 'label'\n",
    "    ]\n",
    "    data = np.array(df.iloc[:100,:])\n",
    "    return data[:,:-1],data[:,-1]\n",
    "    "
   ]
  },
  {
   "cell_type": "code",
   "execution_count": 16,
   "metadata": {},
   "outputs": [],
   "source": [
    "X,y = create_data()\n",
    "X_train,Xtest,y_train,y_test = train_test_split(X,y,test_size=0.3)"
   ]
  },
  {
   "cell_type": "code",
   "execution_count": 17,
   "metadata": {},
   "outputs": [
    {
     "data": {
      "text/plain": [
       "(array([5.4, 3.9, 1.7, 0.4]), 1.0)"
      ]
     },
     "execution_count": 17,
     "metadata": {},
     "output_type": "execute_result"
    }
   ],
   "source": [
    "X_train[0],y_test[0]"
   ]
  },
  {
   "cell_type": "code",
   "execution_count": null,
   "metadata": {},
   "outputs": [],
   "source": [
    "class NaiveBayes:\n",
    "    def __init__(self) -> None:\n",
    "        self.model = None\n",
    "\n",
    "    #expect\n",
    "    @staticmethod\n",
    "    def mean(X):\n",
    "        return sum(X) / float(len(X))\n",
    "\n",
    "    #标准差\n",
    "    def stdev(self,X):\n",
    "        avg = self.mean(X)\n",
    "        return math.sqrt(sum([pow(x - avg,2) for x in X]) / float(len(X)))\n",
    "\n",
    "    #概率密度函数\n",
    "    def gaussian_probability(self,x,mean,stdev):\n",
    "        exponent = math.exp(-pow(x-mean,2) / 2*math.pow(stdev,2))\n",
    "        return 1 / math.sqrt(2*math.pi*stdev) * exponent\n",
    "\n",
    "    #处理X_train\n",
    "    def summarize(self,train_data):\n",
    "        summarizes = [(self.mean(i),self.stdev(i)) for i in zip(*train_data)]\n",
    "        return summarizes\n",
    "    \n",
    "    #分别求出数学期望和标准差\n",
    "    def fit(self,X,y):\n",
    "        labels = list(set(y))\n",
    "        data = {label : [] for label in labels}\n",
    "        for f,label in zip(X,y):\n",
    "            data[label].append(f)\n",
    "        self.model = {\n",
    "            label:self.summarize(value)\n",
    "        }"
   ]
  }
 ],
 "metadata": {
  "interpreter": {
   "hash": "7b4b4feff2f24a0f0a34464dbe537a36fda679851528fb8735cb41fa49dffb2d"
  },
  "kernelspec": {
   "display_name": "Python 3.8.8 64-bit ('base': conda)",
   "language": "python",
   "name": "python3"
  },
  "language_info": {
   "codemirror_mode": {
    "name": "ipython",
    "version": 3
   },
   "file_extension": ".py",
   "mimetype": "text/x-python",
   "name": "python",
   "nbconvert_exporter": "python",
   "pygments_lexer": "ipython3",
   "version": "3.8.8"
  },
  "orig_nbformat": 4
 },
 "nbformat": 4,
 "nbformat_minor": 2
}
