{
 "cells": [
  {
   "cell_type": "code",
   "execution_count": 1,
   "metadata": {
    "collapsed": true
   },
   "outputs": [],
   "source": [
    "import numpy as np\n",
    "import pandas as pd\n",
    "\n"
   ]
  },
  {
   "cell_type": "code",
   "execution_count": 2,
   "outputs": [],
   "source": [
    "data = pd.read_excel('adsor.xlsx')"
   ],
   "metadata": {
    "collapsed": false,
    "pycharm": {
     "name": "#%%\n"
    }
   }
  },
  {
   "cell_type": "code",
   "execution_count": 5,
   "outputs": [
    {
     "data": {
      "text/plain": "  element      Eads   ioni   elec  zq  zu  xh  Unnamed: 7  Unnamed: 8  \\\n0      Al -0.981848  577.5  1.61    3  13  13         NaN         NaN   \n1      Be -0.081045  932.0  1.57    2   2   4         NaN         NaN   \n2      Ca -0.278873  589.8  1.00    4   2  20         NaN         NaN   \n3      Cu -0.748399  745.5   1.9    4  11  29         NaN         NaN   \n4       K -0.409136  418.8  0.82    4   1  19         NaN         NaN   \n5      Li -0.587539  520.2  0.98    2   1   3         NaN         NaN   \n6      Mg -0.025980  737.7  1.31    3   2  12         NaN         NaN   \n7      Na -0.092769  495.8  0.93    3   1  11         NaN         NaN   \n8      Zn -0.022261  906.4  1.65    4  12  30         NaN         NaN   \n\n   Unnamed: 9  Unnamed: 10                                        Unnamed: 11  \n0         NaN          NaN                                                NaN  \n1         NaN          NaN                                                NaN  \n2         NaN          NaN                                                NaN  \n3         NaN          NaN                                                NaN  \n4         NaN          NaN                                                NaN  \n5         NaN          NaN                                                ...  \n6         NaN          NaN                                                NaN  \n7         NaN          NaN                                                NaN  \n8         NaN          NaN                                                NaN  ",
      "text/html": "<div>\n<style scoped>\n    .dataframe tbody tr th:only-of-type {\n        vertical-align: middle;\n    }\n\n    .dataframe tbody tr th {\n        vertical-align: top;\n    }\n\n    .dataframe thead th {\n        text-align: right;\n    }\n</style>\n<table border=\"1\" class=\"dataframe\">\n  <thead>\n    <tr style=\"text-align: right;\">\n      <th></th>\n      <th>element</th>\n      <th>Eads</th>\n      <th>ioni</th>\n      <th>elec</th>\n      <th>zq</th>\n      <th>zu</th>\n      <th>xh</th>\n      <th>Unnamed: 7</th>\n      <th>Unnamed: 8</th>\n      <th>Unnamed: 9</th>\n      <th>Unnamed: 10</th>\n      <th>Unnamed: 11</th>\n    </tr>\n  </thead>\n  <tbody>\n    <tr>\n      <th>0</th>\n      <td>Al</td>\n      <td>-0.981848</td>\n      <td>577.5</td>\n      <td>1.61</td>\n      <td>3</td>\n      <td>13</td>\n      <td>13</td>\n      <td>NaN</td>\n      <td>NaN</td>\n      <td>NaN</td>\n      <td>NaN</td>\n      <td>NaN</td>\n    </tr>\n    <tr>\n      <th>1</th>\n      <td>Be</td>\n      <td>-0.081045</td>\n      <td>932.0</td>\n      <td>1.57</td>\n      <td>2</td>\n      <td>2</td>\n      <td>4</td>\n      <td>NaN</td>\n      <td>NaN</td>\n      <td>NaN</td>\n      <td>NaN</td>\n      <td>NaN</td>\n    </tr>\n    <tr>\n      <th>2</th>\n      <td>Ca</td>\n      <td>-0.278873</td>\n      <td>589.8</td>\n      <td>1.00</td>\n      <td>4</td>\n      <td>2</td>\n      <td>20</td>\n      <td>NaN</td>\n      <td>NaN</td>\n      <td>NaN</td>\n      <td>NaN</td>\n      <td>NaN</td>\n    </tr>\n    <tr>\n      <th>3</th>\n      <td>Cu</td>\n      <td>-0.748399</td>\n      <td>745.5</td>\n      <td>1.9</td>\n      <td>4</td>\n      <td>11</td>\n      <td>29</td>\n      <td>NaN</td>\n      <td>NaN</td>\n      <td>NaN</td>\n      <td>NaN</td>\n      <td>NaN</td>\n    </tr>\n    <tr>\n      <th>4</th>\n      <td>K</td>\n      <td>-0.409136</td>\n      <td>418.8</td>\n      <td>0.82</td>\n      <td>4</td>\n      <td>1</td>\n      <td>19</td>\n      <td>NaN</td>\n      <td>NaN</td>\n      <td>NaN</td>\n      <td>NaN</td>\n      <td>NaN</td>\n    </tr>\n    <tr>\n      <th>5</th>\n      <td>Li</td>\n      <td>-0.587539</td>\n      <td>520.2</td>\n      <td>0.98</td>\n      <td>2</td>\n      <td>1</td>\n      <td>3</td>\n      <td>NaN</td>\n      <td>NaN</td>\n      <td>NaN</td>\n      <td>NaN</td>\n      <td>...</td>\n    </tr>\n    <tr>\n      <th>6</th>\n      <td>Mg</td>\n      <td>-0.025980</td>\n      <td>737.7</td>\n      <td>1.31</td>\n      <td>3</td>\n      <td>2</td>\n      <td>12</td>\n      <td>NaN</td>\n      <td>NaN</td>\n      <td>NaN</td>\n      <td>NaN</td>\n      <td>NaN</td>\n    </tr>\n    <tr>\n      <th>7</th>\n      <td>Na</td>\n      <td>-0.092769</td>\n      <td>495.8</td>\n      <td>0.93</td>\n      <td>3</td>\n      <td>1</td>\n      <td>11</td>\n      <td>NaN</td>\n      <td>NaN</td>\n      <td>NaN</td>\n      <td>NaN</td>\n      <td>NaN</td>\n    </tr>\n    <tr>\n      <th>8</th>\n      <td>Zn</td>\n      <td>-0.022261</td>\n      <td>906.4</td>\n      <td>1.65</td>\n      <td>4</td>\n      <td>12</td>\n      <td>30</td>\n      <td>NaN</td>\n      <td>NaN</td>\n      <td>NaN</td>\n      <td>NaN</td>\n      <td>NaN</td>\n    </tr>\n  </tbody>\n</table>\n</div>"
     },
     "execution_count": 5,
     "metadata": {},
     "output_type": "execute_result"
    }
   ],
   "source": [
    "data"
   ],
   "metadata": {
    "collapsed": false,
    "pycharm": {
     "name": "#%%\n"
    }
   }
  },
  {
   "cell_type": "code",
   "execution_count": 25,
   "outputs": [],
   "source": [
    "from sklearn.model_selection import train_test_split\n",
    "from sklearn.neural_network import MLPRegressor\n",
    "from sklearn.preprocessing import StandardScaler"
   ],
   "metadata": {
    "collapsed": false,
    "pycharm": {
     "name": "#%%\n"
    }
   }
  },
  {
   "cell_type": "code",
   "execution_count": 27,
   "outputs": [],
   "source": [
    "x_data = np.array(data.loc[:,'ioni':'xh'])\n",
    "y_data = np.array(data.loc[:,'Eads'])"
   ],
   "metadata": {
    "collapsed": false,
    "pycharm": {
     "name": "#%%\n"
    }
   }
  },
  {
   "cell_type": "code",
   "execution_count": 29,
   "outputs": [],
   "source": [
    "x_train,x_test,y_train,y_test = train_test_split(x_data,y_data,train_size=0.7,test_size=0.3,random_state=30)"
   ],
   "metadata": {
    "collapsed": false,
    "pycharm": {
     "name": "#%%\n"
    }
   }
  },
  {
   "cell_type": "code",
   "execution_count": 30,
   "outputs": [],
   "source": [
    "#标准化，归一化\n",
    "scaler = StandardScaler()\n",
    "scaler.fit(x_train)\n",
    "\n",
    "x_train = scaler.transform(x_train)\n",
    "x_test = scaler.transform(x_test)"
   ],
   "metadata": {
    "collapsed": false,
    "pycharm": {
     "name": "#%%\n"
    }
   }
  },
  {
   "cell_type": "code",
   "execution_count": 32,
   "outputs": [
    {
     "data": {
      "text/plain": "array([[ 0.82604414,  2.08135236,  1.21267813,  1.12720372,  1.72692156],\n       [ 1.9579856 ,  1.07621146, -1.69774938, -0.56360186, -1.28515093],\n       [-0.11896007, -0.65994099,  1.21267813, -0.56360186,  0.64257546]])"
     },
     "execution_count": 32,
     "metadata": {},
     "output_type": "execute_result"
    }
   ],
   "source": [
    "x_test"
   ],
   "metadata": {
    "collapsed": false,
    "pycharm": {
     "name": "#%%\n"
    }
   }
  },
  {
   "cell_type": "code",
   "execution_count": 33,
   "outputs": [
    {
     "data": {
      "text/plain": "MLPRegressor(alpha=1e-05, hidden_layer_sizes=(50, 50, 50), max_iter=500,\n             random_state=613)"
     },
     "execution_count": 33,
     "metadata": {},
     "output_type": "execute_result"
    }
   ],
   "source": [
    "#模型训练\n",
    "nlf = MLPRegressor(alpha=1e-5,hidden_layer_sizes=(50,50,50), max_iter = 500, random_state=613)\n",
    "nlf.fit(x_train,y_train)"
   ],
   "metadata": {
    "collapsed": false,
    "pycharm": {
     "name": "#%%\n"
    }
   }
  },
  {
   "cell_type": "code",
   "execution_count": 34,
   "outputs": [],
   "source": [
    "#模型预测\n",
    "test_pred = nlf.predict(x_test)\n",
    "train_pred = nlf.predict(x_train)"
   ],
   "metadata": {
    "collapsed": false,
    "pycharm": {
     "name": "#%%\n"
    }
   }
  },
  {
   "cell_type": "code",
   "execution_count": 35,
   "outputs": [
    {
     "data": {
      "text/plain": "array([-0.43981534, -0.16682287, -0.24084433])"
     },
     "execution_count": 35,
     "metadata": {},
     "output_type": "execute_result"
    }
   ],
   "source": [
    "test_pred"
   ],
   "metadata": {
    "collapsed": false,
    "pycharm": {
     "name": "#%%\n"
    }
   }
  },
  {
   "cell_type": "code",
   "execution_count": 37,
   "outputs": [],
   "source": [
    "#几个简单的统计函数\n",
    "import math,cmath\n",
    "def computecorrelation(x,y):\n",
    "    x_bar=np.mean(x)\n",
    "    y_bar=np.mean(y)\n",
    "    SSR=0\n",
    "    Varx=0\n",
    "    Vary=0\n",
    "    for i in range(0,len(x)):\n",
    "        SSR+=(x[i]-x_bar)*(y[i]-y_bar)\n",
    "        Varx+=(x[i]-x_bar)**2\n",
    "        Vary+=(y[i]-y_bar)**2\n",
    "    SST=cmath.sqrt(Varx*Vary)\n",
    "    return SSR/SST\n",
    "def rmse(x,y):\n",
    "    z = []\n",
    "    for i in range(len(x)):\n",
    "        z.append((x[i] - y[i])**2)\n",
    "    z_bar = np.mean(z)\n",
    "    return np.sqrt(z_bar)\n",
    "def mae(x,y):\n",
    "    z = []\n",
    "    for i in range(len(x)):\n",
    "        z.append(abs(x[i] - y[i]))\n",
    "    return np.mean(z)\n",
    "def get_stastics(y1,y2):\n",
    "    mae1 = mae(y1,y2)\n",
    "    rmse1 = rmse(y1,y2)\n",
    "    cor = computecorrelation(y1,y2)\n",
    "    print('The MAE is: ',mae1)\n",
    "    print('The RMSE is: ',rmse1)\n",
    "    print('The correlation parameter is: ',cor)\n",
    "    return"
   ],
   "metadata": {
    "collapsed": false,
    "pycharm": {
     "name": "#%%\n"
    }
   }
  },
  {
   "cell_type": "code",
   "execution_count": 38,
   "outputs": [
    {
     "name": "stdout",
     "output_type": "stream",
     "text": [
      "训练集统计误差：\n",
      "The MAE is:  0.028521361471653895\n",
      "The RMSE is:  0.03541766950466227\n",
      "The correlation parameter is:  (0.9962563640655844+0j)\n",
      "测试集统计误差：\n",
      "The MAE is:  0.14412995050612257\n",
      "The RMSE is:  0.18621497250955232\n",
      "The correlation parameter is:  (0.9996223312631469+0j)\n"
     ]
    }
   ],
   "source": [
    "#获得统计结果\n",
    "print(\"训练集统计误差：\")\n",
    "get_stastics(y_train,train_pred)\n",
    "print(\"测试集统计误差：\")\n",
    "get_stastics(y_test,test_pred)"
   ],
   "metadata": {
    "collapsed": false,
    "pycharm": {
     "name": "#%%\n"
    }
   }
  },
  {
   "cell_type": "code",
   "execution_count": 39,
   "outputs": [],
   "source": [
    "import matplotlib.pyplot as plt"
   ],
   "metadata": {
    "collapsed": false,
    "pycharm": {
     "name": "#%%\n"
    }
   }
  },
  {
   "cell_type": "code",
   "execution_count": 44,
   "outputs": [
    {
     "data": {
      "text/plain": "<Figure size 432x288 with 1 Axes>",
      "image/png": "[encoded data removed]"
     },
     "metadata": {
      "needs_background": "light"
     },
     "output_type": "display_data"
    }
   ],
   "source": [
    "# Plot the results\n",
    "plt.figure()\n",
    "s = 2\n",
    "a = 0.4\n",
    "plt.plot(y_test,y_test,label=\"Test data\")\n",
    "plt.scatter(y_test, test_pred, edgecolor='k',\n",
    "            c=\"cornflowerblue\", s=s, alpha=a,\n",
    "            label=\"NNR score=%.2f\" % nlf.score(x_test, y_test))\n",
    "\n",
    "plt.xlim([-1, 0.5])\n",
    "plt.ylim([-1, 0.5])\n",
    "plt.xlabel(\"Test data\")\n",
    "plt.ylabel(\"Predicted data\")\n",
    "plt.title(\"Neural Network Regressor Results\")\n",
    "plt.legend()\n",
    "plt.show()"
   ],
   "metadata": {
    "collapsed": false,
    "pycharm": {
     "name": "#%%\n"
    }
   }
  },
  {
   "cell_type": "code",
   "execution_count": null,
   "outputs": [],
   "source": [],
   "metadata": {
    "collapsed": false,
    "pycharm": {
     "name": "#%%\n"
    }
   }
  }
 ],
 "metadata": {
  "kernelspec": {
   "name": "pycharm-5a6c15b5",
   "language": "python",
   "display_name": "PyCharm (machine_learning)"
  },
  "language_info": {
   "codemirror_mode": {
    "name": "ipython",
    "version": 2
   },
   "file_extension": ".py",
   "mimetype": "text/x-python",
   "name": "python",
   "nbconvert_exporter": "python",
   "pygments_lexer": "ipython2",
   "version": "2.7.6"
  }
 },
 "nbformat": 4,
 "nbformat_minor": 0
}