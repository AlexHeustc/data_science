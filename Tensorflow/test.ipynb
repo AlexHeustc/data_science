{
 "cells": [
  {
   "cell_type": "code",
   "execution_count": 1,
   "metadata": {},
   "outputs": [
    {
     "name": "stdout",
     "output_type": "stream",
     "text": [
      "WARNING:tensorflow:From D:\\anaconda3\\envs\\my_thca\\lib\\site-packages\\tensorflow\\python\\compat\\v2_compat.py:107: disable_resource_variables (from tensorflow.python.ops.variable_scope) is deprecated and will be removed in a future version.\n",
      "Instructions for updating:\n",
      "non-resource variables are not supported in the long term\n"
     ]
    }
   ],
   "source": [
    "import tensorflow.compat.v1 as tf\n",
    "tf.disable_v2_behavior()\n",
    "import numpy as np"
   ]
  },
  {
   "cell_type": "code",
   "execution_count": 3,
   "metadata": {},
   "outputs": [],
   "source": [
    "#create data"
   ]
  },
  {
   "cell_type": "code",
   "execution_count": 4,
   "metadata": {},
   "outputs": [],
   "source": [
    "x_data = np.random.rand(100).astype(np.float32)\n",
    "y_data = x_data*0.1 + 0.3"
   ]
  },
  {
   "cell_type": "code",
   "execution_count": 22,
   "metadata": {},
   "outputs": [
    {
     "name": "stdout",
     "output_type": "stream",
     "text": [
      "WARNING:tensorflow:From D:\\anaconda3\\envs\\my_thca\\lib\\site-packages\\tensorflow\\python\\util\\tf_should_use.py:243: initialize_all_variables (from tensorflow.python.ops.variables) is deprecated and will be removed after 2017-03-02.\n",
      "Instructions for updating:\n",
      "Use `tf.global_variables_initializer` instead.\n"
     ]
    }
   ],
   "source": [
    "Weights = tf.Variable(tf.random_uniform([1],-1,1))\n",
    "biases = tf.Variable(tf.zeros([1]))\n",
    "\n",
    "y = Weights*x_data+biases\n",
    "\n",
    "loss = tf.reduce_mean(tf.square(y-y_data))\n",
    "\n",
    "optimizer = tf.train.GradientDescentOptimizer(0.5)\n",
    "train = optimizer.minimize(loss)\n",
    "\n",
    "init = tf.initialize_all_variables()\n"
   ]
  },
  {
   "cell_type": "code",
   "execution_count": 23,
   "metadata": {},
   "outputs": [],
   "source": [
    "sess = tf.Session()\n",
    "sess.run(init)"
   ]
  },
  {
   "cell_type": "code",
   "execution_count": 24,
   "metadata": {},
   "outputs": [
    {
     "name": "stdout",
     "output_type": "stream",
     "text": [
      "0 [0.79289526] [-0.11559065]\n",
      "20 [0.2829901] [0.20075157]\n",
      "40 [0.1471912] [0.27440488]\n",
      "60 [0.11217009] [0.29339933]\n",
      "80 [0.10313853] [0.29829776]\n",
      "100 [0.1008094] [0.29956102]\n",
      "120 [0.10020874] [0.2998868]\n",
      "140 [0.10005383] [0.2999708]\n",
      "160 [0.10001388] [0.29999247]\n",
      "180 [0.10000359] [0.29999807]\n",
      "200 [0.10000093] [0.2999995]\n"
     ]
    }
   ],
   "source": [
    "for step in range(201):\n",
    "    sess.run(train)\n",
    "    if step %20 ==0:\n",
    "        print(step,sess.run(Weights),sess.run(biases))"
   ]
  },
  {
   "cell_type": "code",
   "execution_count": 3,
   "metadata": {},
   "outputs": [
    {
     "name": "stdout",
     "output_type": "stream",
     "text": [
      "[[12]]\n"
     ]
    }
   ],
   "source": [
    "matrix1 = tf.constant([[3,3]])\n",
    "matrix2 = tf.constant([[2],[2]])\n",
    "product = tf.matmul(matrix1,matrix2)\n",
    "\n",
    "with tf.Session() as sess:\n",
    "    result = sess.run(product)\n",
    "    print(result)\n"
   ]
  },
  {
   "cell_type": "code",
   "execution_count": 11,
   "metadata": {},
   "outputs": [
    {
     "name": "stdout",
     "output_type": "stream",
     "text": [
      "[14.]\n"
     ]
    }
   ],
   "source": [
    "input1 = tf.placeholder(tf.float32)\n",
    "input2 = tf.placeholder(tf.float32)\n",
    "\n",
    "output = tf.multiply(input1,input2)\n",
    "\n",
    "with tf.Session() as sess:\n",
    "    print(sess.run(output,feed_dict = {input1:[7.],input2:[2.]}))"
   ]
  },
  {
   "cell_type": "code",
   "execution_count": 14,
   "metadata": {},
   "outputs": [
    {
     "name": "stdout",
     "output_type": "stream",
     "text": [
      "0 step, weights = Tensor(\"Identity_44:0\", shape=(1,), dtype=float32), biases = Tensor(\"Identity_45:0\", shape=(1,), dtype=float32), loss = Tensor(\"Mean_425:0\", shape=(), dtype=float32)\n",
      "20 step, weights = Tensor(\"Identity_46:0\", shape=(1,), dtype=float32), biases = Tensor(\"Identity_47:0\", shape=(1,), dtype=float32), loss = Tensor(\"Mean_446:0\", shape=(), dtype=float32)\n",
      "40 step, weights = Tensor(\"Identity_48:0\", shape=(1,), dtype=float32), biases = Tensor(\"Identity_49:0\", shape=(1,), dtype=float32), loss = Tensor(\"Mean_467:0\", shape=(), dtype=float32)\n",
      "60 step, weights = Tensor(\"Identity_50:0\", shape=(1,), dtype=float32), biases = Tensor(\"Identity_51:0\", shape=(1,), dtype=float32), loss = Tensor(\"Mean_488:0\", shape=(), dtype=float32)\n",
      "80 step, weights = Tensor(\"Identity_52:0\", shape=(1,), dtype=float32), biases = Tensor(\"Identity_53:0\", shape=(1,), dtype=float32), loss = Tensor(\"Mean_509:0\", shape=(), dtype=float32)\n",
      "100 step, weights = Tensor(\"Identity_54:0\", shape=(1,), dtype=float32), biases = Tensor(\"Identity_55:0\", shape=(1,), dtype=float32), loss = Tensor(\"Mean_530:0\", shape=(), dtype=float32)\n",
      "120 step, weights = Tensor(\"Identity_56:0\", shape=(1,), dtype=float32), biases = Tensor(\"Identity_57:0\", shape=(1,), dtype=float32), loss = Tensor(\"Mean_551:0\", shape=(), dtype=float32)\n",
      "140 step, weights = Tensor(\"Identity_58:0\", shape=(1,), dtype=float32), biases = Tensor(\"Identity_59:0\", shape=(1,), dtype=float32), loss = Tensor(\"Mean_572:0\", shape=(), dtype=float32)\n",
      "160 step, weights = Tensor(\"Identity_60:0\", shape=(1,), dtype=float32), biases = Tensor(\"Identity_61:0\", shape=(1,), dtype=float32), loss = Tensor(\"Mean_593:0\", shape=(), dtype=float32)\n",
      "180 step, weights = Tensor(\"Identity_62:0\", shape=(1,), dtype=float32), biases = Tensor(\"Identity_63:0\", shape=(1,), dtype=float32), loss = Tensor(\"Mean_614:0\", shape=(), dtype=float32)\n",
      "200 step, weights = Tensor(\"Identity_64:0\", shape=(1,), dtype=float32), biases = Tensor(\"Identity_65:0\", shape=(1,), dtype=float32), loss = Tensor(\"Mean_635:0\", shape=(), dtype=float32)\n"
     ]
    }
   ],
   "source": [
    "import tensorflow as tf\n",
    "import numpy as np\n",
    "# create data\n",
    "x_data = np.random.rand(100).astype(np.float32)\n",
    "y_data = x_data*0.1 + 0.3\n",
    "# create tensorflow structure\n",
    "Weights = tf.Variable(tf.random.uniform((1,), -1.0, 1.0))\n",
    "biases = tf.Variable(tf.zeros((1,)))\n",
    "loss = lambda: tf.keras.losses.MSE(y_data, Weights * x_data + biases)  # alias: tf.losses.mse\n",
    "optimizer = tf.keras.optimizers.SGD(learning_rate=0.5)  # alias: tf.optimizers.SGD\n",
    "for step in range(201):\n",
    "    optimizer.minimize(loss, var_list=[Weights, biases])\n",
    "    if step % 20 == 0:\n",
    "        print(\"{} step, weights = {}, biases = {}, loss = {}\".format(step, Weights.read_value(), biases.read_value(), loss()))  # read_value函数可用numpy替换"
   ]
  },
  {
   "cell_type": "code",
   "execution_count": 15,
   "metadata": {},
   "outputs": [
    {
     "name": "stdout",
     "output_type": "stream",
     "text": [
      "0 step, weights = Tensor(\"Identity_66:0\", shape=(1,), dtype=float32), biases = Tensor(\"Identity_67:0\", shape=(1,), dtype=float32)\n",
      "20 step, weights = Tensor(\"Identity_68:0\", shape=(1,), dtype=float32), biases = Tensor(\"Identity_69:0\", shape=(1,), dtype=float32)\n",
      "40 step, weights = Tensor(\"Identity_70:0\", shape=(1,), dtype=float32), biases = Tensor(\"Identity_71:0\", shape=(1,), dtype=float32)\n",
      "60 step, weights = Tensor(\"Identity_72:0\", shape=(1,), dtype=float32), biases = Tensor(\"Identity_73:0\", shape=(1,), dtype=float32)\n",
      "80 step, weights = Tensor(\"Identity_74:0\", shape=(1,), dtype=float32), biases = Tensor(\"Identity_75:0\", shape=(1,), dtype=float32)\n",
      "100 step, weights = Tensor(\"Identity_76:0\", shape=(1,), dtype=float32), biases = Tensor(\"Identity_77:0\", shape=(1,), dtype=float32)\n",
      "120 step, weights = Tensor(\"Identity_78:0\", shape=(1,), dtype=float32), biases = Tensor(\"Identity_79:0\", shape=(1,), dtype=float32)\n",
      "140 step, weights = Tensor(\"Identity_80:0\", shape=(1,), dtype=float32), biases = Tensor(\"Identity_81:0\", shape=(1,), dtype=float32)\n",
      "160 step, weights = Tensor(\"Identity_82:0\", shape=(1,), dtype=float32), biases = Tensor(\"Identity_83:0\", shape=(1,), dtype=float32)\n",
      "180 step, weights = Tensor(\"Identity_84:0\", shape=(1,), dtype=float32), biases = Tensor(\"Identity_85:0\", shape=(1,), dtype=float32)\n",
      "200 step, weights = Tensor(\"Identity_86:0\", shape=(1,), dtype=float32), biases = Tensor(\"Identity_87:0\", shape=(1,), dtype=float32)\n"
     ]
    }
   ],
   "source": [
    "import tensorflow as tf\n",
    "import numpy as np\n",
    "# create data\n",
    "x_data = np.random.rand(100).astype(np.float32)\n",
    "y_data = x_data*0.1 + 0.3\n",
    "# create tensorflow structure\n",
    "Weights = tf.Variable(tf.random.uniform((1,), -1.0, 1.0))\n",
    "biases = tf.Variable(tf.zeros((1,)))\n",
    "@tf.function\n",
    "def loss():\n",
    "    return tf.keras.losses.MSE(y_data, Weights * x_data + biases)\n",
    "optimizer = tf.keras.optimizers.SGD(learning_rate=0.5)  # alias: tf.optimizers.SGD\n",
    "for step in range(201):\n",
    "    optimizer.minimize(loss, var_list=[Weights, biases])\n",
    "    if step % 20 == 0:\n",
    "        print(\"{} step, weights = {}, biases = {}\".format(step, Weights.read_value(), biases.read_value()))  # read_value函数可用numpy替换"
   ]
  },
  {
   "cell_type": "code",
   "execution_count": 6,
   "metadata": {},
   "outputs": [],
   "source": [
    "import tensorflow.compat.v1 as tf\n",
    "import numpy as np\n",
    "import matplotlib.pyplot as plt\n",
    "\n",
    "tf.disable_v2_behavior()\n",
    "\n",
    "%matplotlib qt5\n",
    "def add_layer(inputs,in_size,out_size,activation_function = None):\n",
    "    Weights = tf.Variable(tf.random_normal((in_size,out_size)))\n",
    "    biases = tf.Variable(tf.zeros((1,out_size))+0.1)\n",
    "\n",
    "    Wx_plus_b = tf.matmul(inputs,Weights) + biases\n",
    "\n",
    "    if activation_function is None:\n",
    "        outputs = Wx_plus_b\n",
    "    else:\n",
    "        outputs = activation_function(Wx_plus_b)\n",
    "    return outputs\n",
    "\n",
    "x_data = np.linspace(-1,1,300)[:,np.newaxis]\n",
    "noise = np.random.normal(0,0.05,x_data.shape)\n",
    "y_data = np.square(x_data) - 0.5 + noise\n",
    "\n",
    "xs = tf.placeholder(tf.float32,[None,1])\n",
    "ys = tf.placeholder(tf.float32,[None,1])\n",
    "\n",
    "l1 = add_layer(xs,1,10,activation_function = tf.nn.relu)\n",
    "prediction = add_layer(l1,10,1,activation_function=None)\n",
    "loss = tf.reduce_mean(tf.reduce_sum(tf.square(ys-prediction), reduction_indices=[1]))\n",
    "\n",
    "train_step = tf.train.GradientDescentOptimizer(learning_rate=0.1).minimize(loss)\n",
    "\n",
    "init = tf.global_variables_initializer()\n",
    "\n",
    "with tf.Session() as sess:\n",
    "    sess.run(init)\n",
    "\n",
    "    fig = plt.figure()\n",
    "    ax = fig.add_subplot(1,1,1)\n",
    "    ax.scatter(x_data,y_data)\n",
    "    plt.ion()\n",
    "    plt.show()\n",
    "\n",
    "    for i in range(1000):\n",
    "        sess.run(train_step, feed_dict={xs: x_data, ys: y_data})\n",
    "        if i % 50 == 0:\n",
    "            \n",
    "            try:\n",
    "                ax.lines.remove(lines[0])\n",
    "            except Exception:\n",
    "                pass\n",
    "            \n",
    "            prediction_value = sess.run(prediction,feed_dict={xs:x_data})\n",
    "            lines = ax.plot(x_data,prediction_value,'r-',lw=5)\n",
    "            plt.pause(0.1)\n",
    "\n",
    "\n",
    "            #print(sess.run(loss,feed_dict={xs:x_data,ys:y_data}))\n",
    "\n",
    "\n"
   ]
  },
  {
   "cell_type": "code",
   "execution_count": 2,
   "metadata": {},
   "outputs": [
    {
     "data": {
      "text/plain": [
       "<matplotlib.collections.PathCollection at 0x21463f1d8b0>"
      ]
     },
     "execution_count": 2,
     "metadata": {},
     "output_type": "execute_result"
    },
    {
     "data": {
      "image/png": "[encoded data removed]",
      "text/plain": [
       "<Figure size 432x288 with 1 Axes>"
      ]
     },
     "metadata": {
      "needs_background": "light"
     },
     "output_type": "display_data"
    }
   ],
   "source": [
    "import matplotlib.pyplot as plt\n",
    "fig = plt.figure()\n",
    "ax = fig.add_subplot(1,1,1)\n",
    "ax.scatter(x_data,y_data)"
   ]
  },
  {
   "cell_type": "code",
   "execution_count": 3,
   "metadata": {},
   "outputs": [
    {
     "data": {
      "image/png": "[encoded data removed]",
      "text/plain": [
       "<Figure size 432x288 with 1 Axes>"
      ]
     },
     "metadata": {
      "needs_background": "light"
     },
     "output_type": "display_data"
    }
   ],
   "source": [
    "import tensorflow.compat.v1 as tf\n",
    "import numpy as np\n",
    "import matplotlib.pyplot as plt\n",
    "\n",
    "tf.disable_v2_behavior()\n",
    "\n",
    "\n",
    "def add_layer(inputs, in_size, out_size, activation_function=None):\n",
    "    Weights = tf.Variable(tf.random_normal((in_size, out_size)))\n",
    "    biases = tf.Variable(tf.zeros((1, out_size)) + 0.1)\n",
    "\n",
    "    Wx_plus_b = tf.matmul(inputs, Weights) + biases\n",
    "    if activation_function is None:\n",
    "        outputs = Wx_plus_b\n",
    "    else:\n",
    "        outputs = activation_function(Wx_plus_b)\n",
    "    return outputs\n",
    "\n",
    "\n",
    "x_data = np.linspace(-1, 1, 300)[:, np.newaxis]\n",
    "noise = np.random.normal(0, 0.05, x_data.shape)\n",
    "y_data = np.square(x_data) - 0.5 + noise\n",
    "\n",
    "xs = tf.placeholder(tf.float32, [None, 1])\n",
    "ys = tf.placeholder(tf.float32, [None, 1])\n",
    "\n",
    "l1 = add_layer(xs, 1, 10, activation_function=tf.nn.relu)\n",
    "prediction = add_layer(l1, 10, 1, activation_function=None)\n",
    "\n",
    "loss = tf.reduce_mean(tf.reduce_sum(tf.square(ys-prediction), reduction_indices=[1]))\n",
    "train_step = tf.train.GradientDescentOptimizer(learning_rate=0.1).minimize(loss)\n",
    "\n",
    "init = tf.global_variables_initializer()\n",
    "\n",
    "with tf.Session() as sess:\n",
    "    sess.run(init)\n",
    "\n",
    "    fig = plt.figure()\n",
    "    ax = fig.add_subplot(111)\n",
    "    ax.scatter(x_data, y_data)\n",
    "    plt.ion()\n",
    "    plt.show()\n",
    "\n",
    "    for i in range(1000):\n",
    "        sess.run(train_step, feed_dict={xs: x_data, ys: y_data})\n",
    "        if i % 50 == 0:\n",
    "                #print(sess.run(loss, feed_dict={xs: x_data, ys: y_data}))\n",
    "                try:\n",
    "                    ax.lines.remove(lines[0])\n",
    "                except Exception:\n",
    "                    pass\n",
    "                prediction_value = sess.run(prediction, feed_dict={xs: x_data})\n",
    "                lines = ax.plot(x_data, prediction_value, 'r-', lw=5)\n",
    "                plt.pause(0.1)"
   ]
  },
  {
   "cell_type": "code",
   "execution_count": 10,
   "metadata": {},
   "outputs": [
    {
     "name": "stdout",
     "output_type": "stream",
     "text": [
      "Tensor(\"random_normal_6:0\", shape=(1, 10), dtype=float32)\n"
     ]
    }
   ],
   "source": [
    "tf.random_normal((1,10))"
   ]
  },
  {
   "cell_type": "code",
   "execution_count": 7,
   "metadata": {},
   "outputs": [
    {
     "name": "stdout",
     "output_type": "stream",
     "text": [
      "Train on 300 samples\n",
      "Epoch 1/100\n",
      "300/300 [==============================] - 0s 556us/sample - loss: 0.1372\n",
      "Epoch 2/100\n",
      "300/300 [==============================] - 0s 30us/sample - loss: 0.1034\n",
      "Epoch 3/100\n",
      "300/300 [==============================] - 0s 27us/sample - loss: 0.0872\n",
      "Epoch 4/100\n",
      "300/300 [==============================] - 0s 30us/sample - loss: 0.0781\n",
      "Epoch 5/100\n",
      "300/300 [==============================] - 0s 33us/sample - loss: 0.0725\n",
      "Epoch 6/100\n",
      "300/300 [==============================] - 0s 27us/sample - loss: 0.0684\n",
      "Epoch 7/100\n",
      "300/300 [==============================] - 0s 33us/sample - loss: 0.0650\n",
      "Epoch 8/100\n",
      "300/300 [==============================] - 0s 30us/sample - loss: 0.0622\n",
      "Epoch 9/100\n",
      "300/300 [==============================] - 0s 37us/sample - loss: 0.0596\n",
      "Epoch 10/100\n",
      "300/300 [==============================] - 0s 33us/sample - loss: 0.0570\n",
      "Epoch 11/100\n",
      "300/300 [==============================] - 0s 27us/sample - loss: 0.0548\n",
      "Epoch 12/100\n",
      "300/300 [==============================] - 0s 30us/sample - loss: 0.0526\n",
      "Epoch 13/100\n",
      "300/300 [==============================] - 0s 30us/sample - loss: 0.0506\n",
      "Epoch 14/100\n",
      "300/300 [==============================] - 0s 33us/sample - loss: 0.0486\n",
      "Epoch 15/100\n",
      "300/300 [==============================] - 0s 33us/sample - loss: 0.0468\n",
      "Epoch 16/100\n",
      "300/300 [==============================] - 0s 30us/sample - loss: 0.0449\n",
      "Epoch 17/100\n",
      "300/300 [==============================] - 0s 23us/sample - loss: 0.0432\n",
      "Epoch 18/100\n",
      "300/300 [==============================] - 0s 33us/sample - loss: 0.0416\n",
      "Epoch 19/100\n",
      "300/300 [==============================] - 0s 33us/sample - loss: 0.0401\n",
      "Epoch 20/100\n",
      "300/300 [==============================] - 0s 33us/sample - loss: 0.0386\n",
      "Epoch 21/100\n",
      "300/300 [==============================] - 0s 29us/sample - loss: 0.0372\n",
      "Epoch 22/100\n",
      "300/300 [==============================] - 0s 30us/sample - loss: 0.0359\n",
      "Epoch 23/100\n",
      "300/300 [==============================] - 0s 33us/sample - loss: 0.0346\n",
      "Epoch 24/100\n",
      "300/300 [==============================] - 0s 30us/sample - loss: 0.0336\n",
      "Epoch 25/100\n",
      "300/300 [==============================] - 0s 33us/sample - loss: 0.0326\n",
      "Epoch 26/100\n",
      "300/300 [==============================] - 0s 30us/sample - loss: 0.0317\n",
      "Epoch 27/100\n",
      "300/300 [==============================] - 0s 33us/sample - loss: 0.0308\n",
      "Epoch 28/100\n",
      "300/300 [==============================] - 0s 31us/sample - loss: 0.0301\n",
      "Epoch 29/100\n",
      "300/300 [==============================] - 0s 49us/sample - loss: 0.0294\n",
      "Epoch 30/100\n",
      "300/300 [==============================] - 0s 40us/sample - loss: 0.0287\n",
      "Epoch 31/100\n",
      "300/300 [==============================] - 0s 27us/sample - loss: 0.0281\n",
      "Epoch 32/100\n",
      "300/300 [==============================] - 0s 30us/sample - loss: 0.0275\n",
      "Epoch 33/100\n",
      "300/300 [==============================] - 0s 33us/sample - loss: 0.0269\n",
      "Epoch 34/100\n",
      "300/300 [==============================] - 0s 43us/sample - loss: 0.0263\n",
      "Epoch 35/100\n",
      "300/300 [==============================] - 0s 40us/sample - loss: 0.0258\n",
      "Epoch 36/100\n",
      "300/300 [==============================] - 0s 30us/sample - loss: 0.0253\n",
      "Epoch 37/100\n",
      "300/300 [==============================] - 0s 29us/sample - loss: 0.0248\n",
      "Epoch 38/100\n",
      "300/300 [==============================] - 0s 32us/sample - loss: 0.0243\n",
      "Epoch 39/100\n",
      "300/300 [==============================] - 0s 37us/sample - loss: 0.0239\n",
      "Epoch 40/100\n",
      "300/300 [==============================] - 0s 40us/sample - loss: 0.0234\n",
      "Epoch 41/100\n",
      "300/300 [==============================] - 0s 40us/sample - loss: 0.0230\n",
      "Epoch 42/100\n",
      "300/300 [==============================] - 0s 57us/sample - loss: 0.0226\n",
      "Epoch 43/100\n",
      "300/300 [==============================] - 0s 40us/sample - loss: 0.0221\n",
      "Epoch 44/100\n",
      "300/300 [==============================] - 0s 40us/sample - loss: 0.0218\n",
      "Epoch 45/100\n",
      "300/300 [==============================] - 0s 40us/sample - loss: 0.0214\n",
      "Epoch 46/100\n",
      "300/300 [==============================] - 0s 50us/sample - loss: 0.0210\n",
      "Epoch 47/100\n",
      "300/300 [==============================] - 0s 43us/sample - loss: 0.0206\n",
      "Epoch 48/100\n",
      "300/300 [==============================] - 0s 47us/sample - loss: 0.0202\n",
      "Epoch 49/100\n",
      "300/300 [==============================] - 0s 40us/sample - loss: 0.0199\n",
      "Epoch 50/100\n",
      "300/300 [==============================] - 0s 33us/sample - loss: 0.0195\n",
      "Epoch 51/100\n",
      "300/300 [==============================] - 0s 38us/sample - loss: 0.0192\n",
      "Epoch 52/100\n",
      "300/300 [==============================] - 0s 39us/sample - loss: 0.0188\n",
      "Epoch 53/100\n",
      "300/300 [==============================] - 0s 42us/sample - loss: 0.0185\n",
      "Epoch 54/100\n",
      "300/300 [==============================] - 0s 33us/sample - loss: 0.0182\n",
      "Epoch 55/100\n",
      "300/300 [==============================] - 0s 33us/sample - loss: 0.0179\n",
      "Epoch 56/100\n",
      "300/300 [==============================] - 0s 43us/sample - loss: 0.0176\n",
      "Epoch 57/100\n",
      "300/300 [==============================] - 0s 37us/sample - loss: 0.0173\n",
      "Epoch 58/100\n",
      "300/300 [==============================] - 0s 40us/sample - loss: 0.0170\n",
      "Epoch 59/100\n",
      "300/300 [==============================] - 0s 45us/sample - loss: 0.0168\n",
      "Epoch 60/100\n",
      "300/300 [==============================] - 0s 37us/sample - loss: 0.0165\n",
      "Epoch 61/100\n",
      "300/300 [==============================] - 0s 35us/sample - loss: 0.0162\n",
      "Epoch 62/100\n",
      "300/300 [==============================] - 0s 44us/sample - loss: 0.0160\n",
      "Epoch 63/100\n",
      "300/300 [==============================] - 0s 36us/sample - loss: 0.0157\n",
      "Epoch 64/100\n",
      "300/300 [==============================] - 0s 39us/sample - loss: 0.0155\n",
      "Epoch 65/100\n",
      "300/300 [==============================] - 0s 37us/sample - loss: 0.0153\n",
      "Epoch 66/100\n",
      "300/300 [==============================] - 0s 44us/sample - loss: 0.0151\n",
      "Epoch 67/100\n",
      "300/300 [==============================] - 0s 40us/sample - loss: 0.0149\n",
      "Epoch 68/100\n",
      "300/300 [==============================] - 0s 40us/sample - loss: 0.0146\n",
      "Epoch 69/100\n",
      "300/300 [==============================] - 0s 30us/sample - loss: 0.0144\n",
      "Epoch 70/100\n",
      "300/300 [==============================] - 0s 42us/sample - loss: 0.0142\n",
      "Epoch 71/100\n",
      "300/300 [==============================] - 0s 36us/sample - loss: 0.0140\n",
      "Epoch 72/100\n",
      "300/300 [==============================] - 0s 40us/sample - loss: 0.0139\n",
      "Epoch 73/100\n",
      "300/300 [==============================] - 0s 37us/sample - loss: 0.0137\n",
      "Epoch 74/100\n",
      "300/300 [==============================] - 0s 40us/sample - loss: 0.0135\n",
      "Epoch 75/100\n",
      "300/300 [==============================] - 0s 44us/sample - loss: 0.0133\n",
      "Epoch 76/100\n",
      "300/300 [==============================] - 0s 37us/sample - loss: 0.0131\n",
      "Epoch 77/100\n",
      "300/300 [==============================] - 0s 37us/sample - loss: 0.0130\n",
      "Epoch 78/100\n",
      "300/300 [==============================] - 0s 37us/sample - loss: 0.0128\n",
      "Epoch 79/100\n",
      "300/300 [==============================] - 0s 34us/sample - loss: 0.0127\n",
      "Epoch 80/100\n",
      "300/300 [==============================] - 0s 30us/sample - loss: 0.0125\n",
      "Epoch 81/100\n",
      "300/300 [==============================] - 0s 43us/sample - loss: 0.0124\n",
      "Epoch 82/100\n",
      "300/300 [==============================] - 0s 36us/sample - loss: 0.0123\n",
      "Epoch 83/100\n",
      "300/300 [==============================] - 0s 37us/sample - loss: 0.0121\n",
      "Epoch 84/100\n",
      "300/300 [==============================] - 0s 37us/sample - loss: 0.0120\n",
      "Epoch 85/100\n",
      "300/300 [==============================] - 0s 37us/sample - loss: 0.0118\n",
      "Epoch 86/100\n",
      "300/300 [==============================] - 0s 37us/sample - loss: 0.0117\n",
      "Epoch 87/100\n",
      "300/300 [==============================] - 0s 40us/sample - loss: 0.0116\n",
      "Epoch 88/100\n",
      "300/300 [==============================] - 0s 37us/sample - loss: 0.0115\n",
      "Epoch 89/100\n",
      "300/300 [==============================] - 0s 58us/sample - loss: 0.0114\n",
      "Epoch 90/100\n",
      "300/300 [==============================] - 0s 37us/sample - loss: 0.0113\n",
      "Epoch 91/100\n",
      "300/300 [==============================] - 0s 37us/sample - loss: 0.0112\n",
      "Epoch 92/100\n",
      "300/300 [==============================] - 0s 45us/sample - loss: 0.0110\n",
      "Epoch 93/100\n",
      "300/300 [==============================] - 0s 38us/sample - loss: 0.0109\n",
      "Epoch 94/100\n",
      "300/300 [==============================] - 0s 45us/sample - loss: 0.0108\n",
      "Epoch 95/100\n",
      "300/300 [==============================] - 0s 40us/sample - loss: 0.0107\n",
      "Epoch 96/100\n",
      "300/300 [==============================] - 0s 49us/sample - loss: 0.0106\n",
      "Epoch 97/100\n",
      "300/300 [==============================] - 0s 47us/sample - loss: 0.0106\n",
      "Epoch 98/100\n",
      "300/300 [==============================] - 0s 50us/sample - loss: 0.0105\n",
      "Epoch 99/100\n",
      "300/300 [==============================] - 0s 53us/sample - loss: 0.0104\n",
      "Epoch 100/100\n",
      "300/300 [==============================] - 0s 52us/sample - loss: 0.0103\n"
     ]
    },
    {
     "data": {
      "text/plain": [
       "<keras.callbacks.History at 0x165909d1970>"
      ]
     },
     "execution_count": 7,
     "metadata": {},
     "output_type": "execute_result"
    }
   ],
   "source": [
    "import tensorflow as tf\n",
    "from tensorflow import keras\n",
    "import numpy as np\n",
    "from datetime import datetime\n",
    "logdir = \"logs\\\\\" + datetime.now().strftime(\"%Y%m%d-%H%M%S\")\n",
    "tensorboard_callback = keras.callbacks.TensorBoard(log_dir=logdir)\n",
    "# 拟合数据的创建\n",
    "x_data = np.linspace(-1, 1, 300)[:, np.newaxis]\n",
    "noise = np.random.normal(0, 0.05, x_data.shape)\n",
    "y_data = np.square(x_data) - 0.5 + noise\n",
    "x_data = x_data.astype(np.float32)\n",
    "noise = noise.astype(np.float32)\n",
    "y_data = y_data.astype(np.float32)\n",
    "# print(x_data.shape)\u0001\n",
    "# 定义一个一个模型\n",
    "model = keras.models.Sequential([\n",
    "    keras.layers.Dense(10, activation='relu'),\n",
    "    keras.layers.Dense(1, activation='linear')\n",
    "])\n",
    "model.compile(\n",
    "    optimizer=tf.keras.optimizers.SGD(0.01),\n",
    "    loss='mse')\n",
    "model.fit(x_data, y_data, epochs=100, callbacks=[tensorboard_callback])"
   ]
  }
 ],
 "metadata": {
  "interpreter": {
   "hash": "49154eba38be296f7812f05dabe7e4545e9f683934d7d87fc9afaf50ba1bc7e2"
  },
  "kernelspec": {
   "display_name": "Python 3.9.6 64-bit ('my_thca': conda)",
   "language": "python",
   "name": "python3"
  },
  "language_info": {
   "codemirror_mode": {
    "name": "ipython",
    "version": 3
   },
   "file_extension": ".py",
   "mimetype": "text/x-python",
   "name": "python",
   "nbconvert_exporter": "python",
   "pygments_lexer": "ipython3",
   "version": "3.9.6"
  },
  "orig_nbformat": 4
 },
 "nbformat": 4,
 "nbformat_minor": 2
}
