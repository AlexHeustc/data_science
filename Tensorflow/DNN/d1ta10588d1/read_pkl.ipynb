{
 "cells": [
  {
   "cell_type": "code",
   "execution_count": 2,
   "metadata": {},
   "outputs": [
    {
     "name": "stdout",
     "output_type": "stream",
     "text": [
      "<numpy.lib.npyio.NpzFile object at 0x0000019854E14040>\n",
      "8\n"
     ]
    }
   ],
   "source": [
    "#show_pkl.py\n",
    " \n",
    "import pickle\n",
    "import numpy as np\n",
    "path='D:\\My_files\\code\\pythonProject\\Tensorflow\\DNN\\d1ta10588d1\\capacity_DNN.pkl'   #path='/root/……/aus_openface.pkl'   pkl文件所在路径\n",
    "\t   \n",
    "f=open(path,'rb')\n",
    "data = np.load(path, allow_pickle=True)\n",
    " \n",
    "print(data)\n",
    "print(len(data))\n",
    " \n"
   ]
  }
 ],
 "metadata": {
  "interpreter": {
   "hash": "49154eba38be296f7812f05dabe7e4545e9f683934d7d87fc9afaf50ba1bc7e2"
  },
  "kernelspec": {
   "display_name": "Python 3.9.6 64-bit ('my_thca': conda)",
   "language": "python",
   "name": "python3"
  },
  "language_info": {
   "codemirror_mode": {
    "name": "ipython",
    "version": 3
   },
   "file_extension": ".py",
   "mimetype": "text/x-python",
   "name": "python",
   "nbconvert_exporter": "python",
   "pygments_lexer": "ipython3",
   "version": "3.9.6"
  },
  "orig_nbformat": 4
 },
 "nbformat": 4,
 "nbformat_minor": 2
}
